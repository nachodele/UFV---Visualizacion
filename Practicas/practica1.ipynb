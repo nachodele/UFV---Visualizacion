{
  "nbformat": 4,
  "nbformat_minor": 0,
  "metadata": {
    "colab": {
      "provenance": [],
      "authorship_tag": "ABX9TyMoBaBi21KDwzbwBXChTdiA",
      "include_colab_link": true
    },
    "kernelspec": {
      "name": "python3",
      "display_name": "Python 3"
    },
    "language_info": {
      "name": "python"
    }
  },
  "cells": [
    {
      "cell_type": "markdown",
      "metadata": {
        "id": "view-in-github",
        "colab_type": "text"
      },
      "source": [
        "<a href=\"https://colab.research.google.com/github/nachodele/UFV---Visualizacion/blob/main/Practicas/practica1.ipynb\" target=\"_parent\"><img src=\"https://colab.research.google.com/assets/colab-badge.svg\" alt=\"Open In Colab\"/></a>"
      ]
    },
    {
      "cell_type": "markdown",
      "source": [
        "# Práctica 1 || Histórico de ventas\n",
        "## 4ºB\n",
        "## Ingeniería Matemática || Visualización de datos  \n",
        "0. Cargamos datos e importamos librerías\n"
      ],
      "metadata": {
        "id": "I-8vJ0oj6izF"
      }
    },
    {
      "cell_type": "code",
      "source": [
        "import pandas as pd\n",
        "import plotly.express as px\n",
        "import plotly.graph_objects as go\n",
        "from statsmodels.tsa.seasonal import seasonal_decompose\n",
        "\n",
        "# Cargar datos\n",
        "data = pd.read_csv('datos_ejercicio_ventas.csv')"
      ],
      "metadata": {
        "id": "hza1U9zG5-UK"
      },
      "execution_count": null,
      "outputs": []
    },
    {
      "cell_type": "markdown",
      "source": [
        "0.1. Número de actual y forecast"
      ],
      "metadata": {
        "id": "BdB1Gxgo9QFS"
      }
    },
    {
      "cell_type": "code",
      "source": [
        "# Contar los valores en la columna 'SCENARIO'\n",
        "scenario_counts = data['SCENARIO'].value_counts()\n",
        "\n",
        "# Mostrar el resultado\n",
        "print(scenario_counts)"
      ],
      "metadata": {
        "colab": {
          "base_uri": "https://localhost:8080/"
        },
        "id": "Q30xBU1QCyuC",
        "outputId": "87a577a7-ba30-416b-8c07-40a1f427b4e8"
      },
      "execution_count": null,
      "outputs": [
        {
          "output_type": "stream",
          "name": "stdout",
          "text": [
            "SCENARIO\n",
            "AI_forecast    17766\n",
            "actual           900\n",
            "Name: count, dtype: int64\n"
          ]
        }
      ]
    },
    {
      "cell_type": "markdown",
      "source": [
        "0.2. Horizonte de predicción: predicción para un número de pasos en el futuro, si estoy en enero y hago una predicción para abril el horizonte de predicción es solo 3."
      ],
      "metadata": {
        "id": "i3ETpfg_C0mo"
      }
    },
    {
      "cell_type": "code",
      "source": [
        "# Revisar el tipo de datos de las columnas\n",
        "print(data.dtypes)\n",
        "\n",
        "# Asegurarse de que los tipos sean consistentes\n",
        "# Convertir la columna 'FORECAST_YEAR' a cadena si es necesario\n",
        "data['FORECAST_YEAR'] = data['FORECAST_YEAR'].astype(str)"
      ],
      "metadata": {
        "colab": {
          "base_uri": "https://localhost:8080/"
        },
        "id": "RXcp8VuDC4NX",
        "outputId": "f34baa43-02b7-445d-e5fc-99334f87b904"
      },
      "execution_count": null,
      "outputs": [
        {
          "output_type": "stream",
          "name": "stdout",
          "text": [
            "COUNTRY           object\n",
            "SUBBRAND          object\n",
            "YEAR               int64\n",
            "MONTH              int64\n",
            "SCENARIO          object\n",
            "FORECAST          object\n",
            "FORECAST_YEAR    float64\n",
            "AMOUNT           float64\n",
            "dtype: object\n"
          ]
        }
      ]
    },
    {
      "cell_type": "markdown",
      "source": [
        "0.3. Número de países y productos"
      ],
      "metadata": {
        "id": "sjvkIEObDH6b"
      }
    },
    {
      "cell_type": "code",
      "source": [
        "# Contar los valores en la columna 'COUNTRY'\n",
        "paises_counts = data['COUNTRY'].value_counts()\n",
        "\n",
        "print(paises_counts)\n",
        "\n",
        "# Contar los valores en la columna 'SUBBRAND'\n",
        "productos_counts = data['SUBBRAND'].value_counts()\n",
        "\n",
        "print(productos_counts)"
      ],
      "metadata": {
        "colab": {
          "base_uri": "https://localhost:8080/"
        },
        "id": "F0H8CIc7DMl3",
        "outputId": "adee428f-c194-46a8-c82e-b9787c2555c0"
      },
      "execution_count": null,
      "outputs": [
        {
          "output_type": "stream",
          "name": "stdout",
          "text": [
            "COUNTRY\n",
            "Great Britain    4008\n",
            "Netherlands      2476\n",
            "Hungary          2384\n",
            "Denmark          2294\n",
            "Spain            2152\n",
            "Norway           2062\n",
            "Czech            1403\n",
            "Portugal         1179\n",
            "Italy             708\n",
            "Name: count, dtype: int64\n",
            "SUBBRAND\n",
            "Pepsi Max (L3)        5598\n",
            "Pepsi Regular (L3)    3636\n",
            "7up (L3)              2694\n",
            "Lipton (L3)           2693\n",
            "7up Free (L3)         2343\n",
            "Mountain Dew (L3)     1702\n",
            "Name: count, dtype: int64\n"
          ]
        }
      ]
    },
    {
      "cell_type": "markdown",
      "source": [
        "0.4. HORIZONTES DE PREDICCIÓN  \n",
        "Para verlo tomaremos como ejemplo Portugal y Lipton."
      ],
      "metadata": {
        "id": "-oq-K8MmDrQX"
      }
    },
    {
      "cell_type": "code",
      "source": [
        "portugal_lipton = data[(data['COUNTRY'] == 'Portugal') & (data['SUBBRAND'] == 'Lipton (L3)')]\n",
        "\n",
        "print(portugal_lipton.head())\n",
        "\n",
        "# Eliminamos los valores de actual al no ser predicciones y especificamos una fecha y predicción concreta\n",
        "portugal_lipton1 = portugal_lipton[portugal_lipton['SCENARIO'] != 'actual']\n",
        "portugal_lipton_02 = portugal_lipton1[(portugal_lipton1['FORECAST'] == 'AI_P02F') & (portugal_lipton1['FORECAST_YEAR'] == '2023.0')]\n",
        "\n",
        "# Contar los valores en la columna 'SCENARIO'\n",
        "portugal_counts = portugal_lipton_02['SCENARIO'].value_counts()\n",
        "\n",
        "# Mostrar el resultado\n",
        "print(portugal_counts)"
      ],
      "metadata": {
        "colab": {
          "base_uri": "https://localhost:8080/"
        },
        "id": "I0R7huWFD4jx",
        "outputId": "c50f0fb9-21e1-4dc1-9a27-17fd6ee5b4c3"
      },
      "execution_count": null,
      "outputs": [
        {
          "output_type": "stream",
          "name": "stdout",
          "text": [
            "      COUNTRY     SUBBRAND  YEAR  MONTH     SCENARIO FORECAST FORECAST_YEAR  \\\n",
            "0    Portugal  Lipton (L3)  2023     12  AI_forecast  AI_P02F        2023.0   \n",
            "292  Portugal  Lipton (L3)  2023     10       actual      NaN           nan   \n",
            "454  Portugal  Lipton (L3)  2024      9  AI_forecast  AI_P04F        2023.0   \n",
            "490  Portugal  Lipton (L3)  2023      7  AI_forecast  AI_P04F        2023.0   \n",
            "530  Portugal  Lipton (L3)  2023      9  AI_forecast  AI_P06F        2023.0   \n",
            "\n",
            "           AMOUNT  \n",
            "0    7.543562e+05  \n",
            "292  1.206886e+06  \n",
            "454  7.122028e+05  \n",
            "490  8.897866e+05  \n",
            "530  7.676745e+05  \n",
            "SCENARIO\n",
            "AI_forecast    18\n",
            "Name: count, dtype: int64\n"
          ]
        }
      ]
    },
    {
      "cell_type": "markdown",
      "source": [
        "0.5. Histórico de actual y forecast: primera y última predicción de un producto"
      ],
      "metadata": {
        "id": "LaDJ6N7bFXNS"
      }
    },
    {
      "cell_type": "code",
      "source": [
        "pd.options.mode.chained_assignment = None\n",
        "\n",
        "# Filtrar los datos históricos (actuales)\n",
        "data_actual = data[data['SCENARIO'] == 'actual']\n",
        "\n",
        "# Verificar si hay datos actuales\n",
        "if not data_actual.empty:\n",
        "    # Crear una columna de fecha combinando YEAR y MONTH\n",
        "    data_actual['DATE'] = pd.to_datetime(data_actual['YEAR'].astype(str) + '-' + data_actual['MONTH'].astype(str) + '-01')\n",
        "    primera_fecha_actual = data_actual['DATE'].min().strftime('%Y-%m')\n",
        "    ultima_fecha_actual = data_actual['DATE'].max().strftime('%Y-%m')\n",
        "else:\n",
        "    primera_fecha_actual = None\n",
        "    ultima_fecha_actual = None\n",
        "\n",
        "# Filtrar los datos de pronósticos (forecast)\n",
        "data_forecast = data[data['SCENARIO'].str.contains('forecast', na=False)]\n",
        "\n",
        "# Verificar si hay datos de pronósticos\n",
        "if not data_forecast.empty:\n",
        "    # Crear una columna de fecha combinando YEAR y MONTH\n",
        "    data_forecast['DATE'] = pd.to_datetime(data_forecast['YEAR'].astype(str) + '-' + data_forecast['MONTH'].astype(str) + '-01')\n",
        "    primera_fecha_forecast = data_forecast['DATE'].min().strftime('%Y-%m')\n",
        "    ultima_fecha_forecast = data_forecast['DATE'].max().strftime('%Y-%m')\n",
        "else:\n",
        "    primera_fecha_forecast = None\n",
        "    ultima_fecha_forecast = None\n",
        "\n",
        "# Resultados\n",
        "print(f\"Histórico actual: Primera fecha: {primera_fecha_actual}, Última fecha: {ultima_fecha_actual}\")\n",
        "print(f\"Pronóstico: Primera fecha: {primera_fecha_forecast}, Última fecha: {ultima_fecha_forecast}\")"
      ],
      "metadata": {
        "colab": {
          "base_uri": "https://localhost:8080/"
        },
        "id": "_yzi5VsCGBao",
        "outputId": "2f722a1b-2433-4183-acd3-5f31d8ec34fb"
      },
      "execution_count": null,
      "outputs": [
        {
          "output_type": "stream",
          "name": "stdout",
          "text": [
            "Histórico actual: Primera fecha: 2023-01, Última fecha: 2024-08\n",
            "Pronóstico: Primera fecha: 2023-01, Última fecha: 2025-05\n"
          ]
        }
      ]
    },
    {
      "cell_type": "markdown",
      "source": [
        "1. Como se distribuyen las ventas realizadas en:  \n",
        "• Cada país\n",
        "\n",
        "\n",
        "\n",
        "\n"
      ],
      "metadata": {
        "id": "hWVRMuqs0YX8"
      }
    },
    {
      "cell_type": "code",
      "source": [
        "# Aggregate data to get the average sales amount per country\n",
        "data_agg = data.groupby('COUNTRY')['AMOUNT'].sum().reset_index()\n",
        "\n",
        "# Plot the boxplot with aggregated data\n",
        "fig_pais = px.bar(data_agg, x='COUNTRY', y='AMOUNT', title=\"Distribución Promedio de Ventas por País\")\n",
        "fig_pais.show()"
      ],
      "metadata": {
        "colab": {
          "base_uri": "https://localhost:8080/",
          "height": 542
        },
        "id": "wUYTsRwZ6PMc",
        "outputId": "1a412639-6f7d-4230-f4f6-667c9ce89671"
      },
      "execution_count": null,
      "outputs": [
        {
          "output_type": "display_data",
          "data": {
            "text/html": [
              "<html>\n",
              "<head><meta charset=\"utf-8\" /></head>\n",
              "<body>\n",
              "    <div>            <script src=\"https://cdnjs.cloudflare.com/ajax/libs/mathjax/2.7.5/MathJax.js?config=TeX-AMS-MML_SVG\"></script><script type=\"text/javascript\">if (window.MathJax && window.MathJax.Hub && window.MathJax.Hub.Config) {window.MathJax.Hub.Config({SVG: {font: \"STIX-Web\"}});}</script>                <script type=\"text/javascript\">window.PlotlyConfig = {MathJaxConfig: 'local'};</script>\n",
              "        <script charset=\"utf-8\" src=\"https://cdn.plot.ly/plotly-2.35.2.min.js\"></script>                <div id=\"09327f21-3521-4e3c-a5ea-f228b121a4d8\" class=\"plotly-graph-div\" style=\"height:525px; width:100%;\"></div>            <script type=\"text/javascript\">                                    window.PLOTLYENV=window.PLOTLYENV || {};                                    if (document.getElementById(\"09327f21-3521-4e3c-a5ea-f228b121a4d8\")) {                    Plotly.newPlot(                        \"09327f21-3521-4e3c-a5ea-f228b121a4d8\",                        [{\"alignmentgroup\":\"True\",\"hovertemplate\":\"COUNTRY=%{x}\\u003cbr\\u003eAMOUNT=%{y}\\u003cextra\\u003e\\u003c\\u002fextra\\u003e\",\"legendgroup\":\"\",\"marker\":{\"color\":\"#636efa\",\"pattern\":{\"shape\":\"\"}},\"name\":\"\",\"offsetgroup\":\"\",\"orientation\":\"v\",\"showlegend\":false,\"textposition\":\"auto\",\"x\":[\"Czech\",\"Denmark\",\"Great Britain\",\"Hungary\",\"Italy\",\"Netherlands\",\"Norway\",\"Portugal\",\"Spain\"],\"xaxis\":\"x\",\"y\":[638494605.9904722,3173958673.0673018,8427774971.702478,1104465499.8554137,505896321.7968859,1831523575.5122635,1858964899.4433846,387181572.87596995,218493569.4034291],\"yaxis\":\"y\",\"type\":\"bar\"}],                        {\"template\":{\"data\":{\"histogram2dcontour\":[{\"type\":\"histogram2dcontour\",\"colorbar\":{\"outlinewidth\":0,\"ticks\":\"\"},\"colorscale\":[[0.0,\"#0d0887\"],[0.1111111111111111,\"#46039f\"],[0.2222222222222222,\"#7201a8\"],[0.3333333333333333,\"#9c179e\"],[0.4444444444444444,\"#bd3786\"],[0.5555555555555556,\"#d8576b\"],[0.6666666666666666,\"#ed7953\"],[0.7777777777777778,\"#fb9f3a\"],[0.8888888888888888,\"#fdca26\"],[1.0,\"#f0f921\"]]}],\"choropleth\":[{\"type\":\"choropleth\",\"colorbar\":{\"outlinewidth\":0,\"ticks\":\"\"}}],\"histogram2d\":[{\"type\":\"histogram2d\",\"colorbar\":{\"outlinewidth\":0,\"ticks\":\"\"},\"colorscale\":[[0.0,\"#0d0887\"],[0.1111111111111111,\"#46039f\"],[0.2222222222222222,\"#7201a8\"],[0.3333333333333333,\"#9c179e\"],[0.4444444444444444,\"#bd3786\"],[0.5555555555555556,\"#d8576b\"],[0.6666666666666666,\"#ed7953\"],[0.7777777777777778,\"#fb9f3a\"],[0.8888888888888888,\"#fdca26\"],[1.0,\"#f0f921\"]]}],\"heatmap\":[{\"type\":\"heatmap\",\"colorbar\":{\"outlinewidth\":0,\"ticks\":\"\"},\"colorscale\":[[0.0,\"#0d0887\"],[0.1111111111111111,\"#46039f\"],[0.2222222222222222,\"#7201a8\"],[0.3333333333333333,\"#9c179e\"],[0.4444444444444444,\"#bd3786\"],[0.5555555555555556,\"#d8576b\"],[0.6666666666666666,\"#ed7953\"],[0.7777777777777778,\"#fb9f3a\"],[0.8888888888888888,\"#fdca26\"],[1.0,\"#f0f921\"]]}],\"heatmapgl\":[{\"type\":\"heatmapgl\",\"colorbar\":{\"outlinewidth\":0,\"ticks\":\"\"},\"colorscale\":[[0.0,\"#0d0887\"],[0.1111111111111111,\"#46039f\"],[0.2222222222222222,\"#7201a8\"],[0.3333333333333333,\"#9c179e\"],[0.4444444444444444,\"#bd3786\"],[0.5555555555555556,\"#d8576b\"],[0.6666666666666666,\"#ed7953\"],[0.7777777777777778,\"#fb9f3a\"],[0.8888888888888888,\"#fdca26\"],[1.0,\"#f0f921\"]]}],\"contourcarpet\":[{\"type\":\"contourcarpet\",\"colorbar\":{\"outlinewidth\":0,\"ticks\":\"\"}}],\"contour\":[{\"type\":\"contour\",\"colorbar\":{\"outlinewidth\":0,\"ticks\":\"\"},\"colorscale\":[[0.0,\"#0d0887\"],[0.1111111111111111,\"#46039f\"],[0.2222222222222222,\"#7201a8\"],[0.3333333333333333,\"#9c179e\"],[0.4444444444444444,\"#bd3786\"],[0.5555555555555556,\"#d8576b\"],[0.6666666666666666,\"#ed7953\"],[0.7777777777777778,\"#fb9f3a\"],[0.8888888888888888,\"#fdca26\"],[1.0,\"#f0f921\"]]}],\"surface\":[{\"type\":\"surface\",\"colorbar\":{\"outlinewidth\":0,\"ticks\":\"\"},\"colorscale\":[[0.0,\"#0d0887\"],[0.1111111111111111,\"#46039f\"],[0.2222222222222222,\"#7201a8\"],[0.3333333333333333,\"#9c179e\"],[0.4444444444444444,\"#bd3786\"],[0.5555555555555556,\"#d8576b\"],[0.6666666666666666,\"#ed7953\"],[0.7777777777777778,\"#fb9f3a\"],[0.8888888888888888,\"#fdca26\"],[1.0,\"#f0f921\"]]}],\"mesh3d\":[{\"type\":\"mesh3d\",\"colorbar\":{\"outlinewidth\":0,\"ticks\":\"\"}}],\"scatter\":[{\"fillpattern\":{\"fillmode\":\"overlay\",\"size\":10,\"solidity\":0.2},\"type\":\"scatter\"}],\"parcoords\":[{\"type\":\"parcoords\",\"line\":{\"colorbar\":{\"outlinewidth\":0,\"ticks\":\"\"}}}],\"scatterpolargl\":[{\"type\":\"scatterpolargl\",\"marker\":{\"colorbar\":{\"outlinewidth\":0,\"ticks\":\"\"}}}],\"bar\":[{\"error_x\":{\"color\":\"#2a3f5f\"},\"error_y\":{\"color\":\"#2a3f5f\"},\"marker\":{\"line\":{\"color\":\"#E5ECF6\",\"width\":0.5},\"pattern\":{\"fillmode\":\"overlay\",\"size\":10,\"solidity\":0.2}},\"type\":\"bar\"}],\"scattergeo\":[{\"type\":\"scattergeo\",\"marker\":{\"colorbar\":{\"outlinewidth\":0,\"ticks\":\"\"}}}],\"scatterpolar\":[{\"type\":\"scatterpolar\",\"marker\":{\"colorbar\":{\"outlinewidth\":0,\"ticks\":\"\"}}}],\"histogram\":[{\"marker\":{\"pattern\":{\"fillmode\":\"overlay\",\"size\":10,\"solidity\":0.2}},\"type\":\"histogram\"}],\"scattergl\":[{\"type\":\"scattergl\",\"marker\":{\"colorbar\":{\"outlinewidth\":0,\"ticks\":\"\"}}}],\"scatter3d\":[{\"type\":\"scatter3d\",\"line\":{\"colorbar\":{\"outlinewidth\":0,\"ticks\":\"\"}},\"marker\":{\"colorbar\":{\"outlinewidth\":0,\"ticks\":\"\"}}}],\"scattermapbox\":[{\"type\":\"scattermapbox\",\"marker\":{\"colorbar\":{\"outlinewidth\":0,\"ticks\":\"\"}}}],\"scatterternary\":[{\"type\":\"scatterternary\",\"marker\":{\"colorbar\":{\"outlinewidth\":0,\"ticks\":\"\"}}}],\"scattercarpet\":[{\"type\":\"scattercarpet\",\"marker\":{\"colorbar\":{\"outlinewidth\":0,\"ticks\":\"\"}}}],\"carpet\":[{\"aaxis\":{\"endlinecolor\":\"#2a3f5f\",\"gridcolor\":\"white\",\"linecolor\":\"white\",\"minorgridcolor\":\"white\",\"startlinecolor\":\"#2a3f5f\"},\"baxis\":{\"endlinecolor\":\"#2a3f5f\",\"gridcolor\":\"white\",\"linecolor\":\"white\",\"minorgridcolor\":\"white\",\"startlinecolor\":\"#2a3f5f\"},\"type\":\"carpet\"}],\"table\":[{\"cells\":{\"fill\":{\"color\":\"#EBF0F8\"},\"line\":{\"color\":\"white\"}},\"header\":{\"fill\":{\"color\":\"#C8D4E3\"},\"line\":{\"color\":\"white\"}},\"type\":\"table\"}],\"barpolar\":[{\"marker\":{\"line\":{\"color\":\"#E5ECF6\",\"width\":0.5},\"pattern\":{\"fillmode\":\"overlay\",\"size\":10,\"solidity\":0.2}},\"type\":\"barpolar\"}],\"pie\":[{\"automargin\":true,\"type\":\"pie\"}]},\"layout\":{\"autotypenumbers\":\"strict\",\"colorway\":[\"#636efa\",\"#EF553B\",\"#00cc96\",\"#ab63fa\",\"#FFA15A\",\"#19d3f3\",\"#FF6692\",\"#B6E880\",\"#FF97FF\",\"#FECB52\"],\"font\":{\"color\":\"#2a3f5f\"},\"hovermode\":\"closest\",\"hoverlabel\":{\"align\":\"left\"},\"paper_bgcolor\":\"white\",\"plot_bgcolor\":\"#E5ECF6\",\"polar\":{\"bgcolor\":\"#E5ECF6\",\"angularaxis\":{\"gridcolor\":\"white\",\"linecolor\":\"white\",\"ticks\":\"\"},\"radialaxis\":{\"gridcolor\":\"white\",\"linecolor\":\"white\",\"ticks\":\"\"}},\"ternary\":{\"bgcolor\":\"#E5ECF6\",\"aaxis\":{\"gridcolor\":\"white\",\"linecolor\":\"white\",\"ticks\":\"\"},\"baxis\":{\"gridcolor\":\"white\",\"linecolor\":\"white\",\"ticks\":\"\"},\"caxis\":{\"gridcolor\":\"white\",\"linecolor\":\"white\",\"ticks\":\"\"}},\"coloraxis\":{\"colorbar\":{\"outlinewidth\":0,\"ticks\":\"\"}},\"colorscale\":{\"sequential\":[[0.0,\"#0d0887\"],[0.1111111111111111,\"#46039f\"],[0.2222222222222222,\"#7201a8\"],[0.3333333333333333,\"#9c179e\"],[0.4444444444444444,\"#bd3786\"],[0.5555555555555556,\"#d8576b\"],[0.6666666666666666,\"#ed7953\"],[0.7777777777777778,\"#fb9f3a\"],[0.8888888888888888,\"#fdca26\"],[1.0,\"#f0f921\"]],\"sequentialminus\":[[0.0,\"#0d0887\"],[0.1111111111111111,\"#46039f\"],[0.2222222222222222,\"#7201a8\"],[0.3333333333333333,\"#9c179e\"],[0.4444444444444444,\"#bd3786\"],[0.5555555555555556,\"#d8576b\"],[0.6666666666666666,\"#ed7953\"],[0.7777777777777778,\"#fb9f3a\"],[0.8888888888888888,\"#fdca26\"],[1.0,\"#f0f921\"]],\"diverging\":[[0,\"#8e0152\"],[0.1,\"#c51b7d\"],[0.2,\"#de77ae\"],[0.3,\"#f1b6da\"],[0.4,\"#fde0ef\"],[0.5,\"#f7f7f7\"],[0.6,\"#e6f5d0\"],[0.7,\"#b8e186\"],[0.8,\"#7fbc41\"],[0.9,\"#4d9221\"],[1,\"#276419\"]]},\"xaxis\":{\"gridcolor\":\"white\",\"linecolor\":\"white\",\"ticks\":\"\",\"title\":{\"standoff\":15},\"zerolinecolor\":\"white\",\"automargin\":true,\"zerolinewidth\":2},\"yaxis\":{\"gridcolor\":\"white\",\"linecolor\":\"white\",\"ticks\":\"\",\"title\":{\"standoff\":15},\"zerolinecolor\":\"white\",\"automargin\":true,\"zerolinewidth\":2},\"scene\":{\"xaxis\":{\"backgroundcolor\":\"#E5ECF6\",\"gridcolor\":\"white\",\"linecolor\":\"white\",\"showbackground\":true,\"ticks\":\"\",\"zerolinecolor\":\"white\",\"gridwidth\":2},\"yaxis\":{\"backgroundcolor\":\"#E5ECF6\",\"gridcolor\":\"white\",\"linecolor\":\"white\",\"showbackground\":true,\"ticks\":\"\",\"zerolinecolor\":\"white\",\"gridwidth\":2},\"zaxis\":{\"backgroundcolor\":\"#E5ECF6\",\"gridcolor\":\"white\",\"linecolor\":\"white\",\"showbackground\":true,\"ticks\":\"\",\"zerolinecolor\":\"white\",\"gridwidth\":2}},\"shapedefaults\":{\"line\":{\"color\":\"#2a3f5f\"}},\"annotationdefaults\":{\"arrowcolor\":\"#2a3f5f\",\"arrowhead\":0,\"arrowwidth\":1},\"geo\":{\"bgcolor\":\"white\",\"landcolor\":\"#E5ECF6\",\"subunitcolor\":\"white\",\"showland\":true,\"showlakes\":true,\"lakecolor\":\"white\"},\"title\":{\"x\":0.05},\"mapbox\":{\"style\":\"light\"}}},\"xaxis\":{\"anchor\":\"y\",\"domain\":[0.0,1.0],\"title\":{\"text\":\"COUNTRY\"}},\"yaxis\":{\"anchor\":\"x\",\"domain\":[0.0,1.0],\"title\":{\"text\":\"AMOUNT\"}},\"legend\":{\"tracegroupgap\":0},\"title\":{\"text\":\"Distribución Promedio de Ventas por País\"},\"barmode\":\"relative\"},                        {\"responsive\": true}                    ).then(function(){\n",
              "                            \n",
              "var gd = document.getElementById('09327f21-3521-4e3c-a5ea-f228b121a4d8');\n",
              "var x = new MutationObserver(function (mutations, observer) {{\n",
              "        var display = window.getComputedStyle(gd).display;\n",
              "        if (!display || display === 'none') {{\n",
              "            console.log([gd, 'removed!']);\n",
              "            Plotly.purge(gd);\n",
              "            observer.disconnect();\n",
              "        }}\n",
              "}});\n",
              "\n",
              "// Listen for the removal of the full notebook cells\n",
              "var notebookContainer = gd.closest('#notebook-container');\n",
              "if (notebookContainer) {{\n",
              "    x.observe(notebookContainer, {childList: true});\n",
              "}}\n",
              "\n",
              "// Listen for the clearing of the current output cell\n",
              "var outputEl = gd.closest('.output');\n",
              "if (outputEl) {{\n",
              "    x.observe(outputEl, {childList: true});\n",
              "}}\n",
              "\n",
              "                        })                };                            </script>        </div>\n",
              "</body>\n",
              "</html>"
            ]
          },
          "metadata": {}
        }
      ]
    },
    {
      "cell_type": "markdown",
      "source": [
        "• Cada mes y año"
      ],
      "metadata": {
        "id": "Pw0rX2478qaN"
      }
    },
    {
      "cell_type": "code",
      "source": [
        "# Media del AMOUNT para obtener ventas totales por mes cada año\n",
        "data_med = data.groupby(['YEAR', 'MONTH'])['AMOUNT'].sum().reset_index()\n",
        "\n",
        "# Bar Plot acumulado\n",
        "fig_mes = px.bar(data_med, x='MONTH', y='AMOUNT', color='YEAR', title=\"Distribución de Ventas por Mes y Año\")\n",
        "fig_mes.update_layout(\n",
        "    yaxis_title=\"SUM OF AMOUNT\"\n",
        ")\n",
        "fig_mes.show()"
      ],
      "metadata": {
        "colab": {
          "base_uri": "https://localhost:8080/",
          "height": 542
        },
        "id": "EMtV8IgB8uIe",
        "outputId": "61321275-a524-4a1d-ae2c-7054b3705c05"
      },
      "execution_count": null,
      "outputs": [
        {
          "output_type": "display_data",
          "data": {
            "text/html": [
              "<html>\n",
              "<head><meta charset=\"utf-8\" /></head>\n",
              "<body>\n",
              "    <div>            <script src=\"https://cdnjs.cloudflare.com/ajax/libs/mathjax/2.7.5/MathJax.js?config=TeX-AMS-MML_SVG\"></script><script type=\"text/javascript\">if (window.MathJax && window.MathJax.Hub && window.MathJax.Hub.Config) {window.MathJax.Hub.Config({SVG: {font: \"STIX-Web\"}});}</script>                <script type=\"text/javascript\">window.PlotlyConfig = {MathJaxConfig: 'local'};</script>\n",
              "        <script charset=\"utf-8\" src=\"https://cdn.plot.ly/plotly-2.35.2.min.js\"></script>                <div id=\"2731202f-6d77-4a41-a9a5-35e0046edc84\" class=\"plotly-graph-div\" style=\"height:525px; width:100%;\"></div>            <script type=\"text/javascript\">                                    window.PLOTLYENV=window.PLOTLYENV || {};                                    if (document.getElementById(\"2731202f-6d77-4a41-a9a5-35e0046edc84\")) {                    Plotly.newPlot(                        \"2731202f-6d77-4a41-a9a5-35e0046edc84\",                        [{\"alignmentgroup\":\"True\",\"hovertemplate\":\"MONTH=%{x}\\u003cbr\\u003eAMOUNT=%{y}\\u003cbr\\u003eYEAR=%{marker.color}\\u003cextra\\u003e\\u003c\\u002fextra\\u003e\",\"legendgroup\":\"\",\"marker\":{\"color\":[2023,2023,2023,2023,2023,2023,2023,2023,2023,2023,2023,2023,2024,2024,2024,2024,2024,2024,2024,2024,2024,2024,2024,2024,2025,2025,2025,2025,2025],\"coloraxis\":\"coloraxis\",\"pattern\":{\"shape\":\"\"}},\"name\":\"\",\"offsetgroup\":\"\",\"orientation\":\"v\",\"showlegend\":false,\"textposition\":\"auto\",\"x\":[1,2,3,4,5,6,7,8,9,10,11,12,1,2,3,4,5,6,7,8,9,10,11,12,1,2,3,4,5],\"xaxis\":\"x\",\"y\":[93101645.85271586,161227486.78980914,269692335.92823505,335369364.2538301,455005434.1489283,530436379.59403026,628847262.7674329,747467631.029327,767944966.1469761,789014011.3149391,908506879.3148593,1049411012.0517318,844884397.8352987,840804673.7729934,1009033114.0364643,987209697.018902,1065666215.0307004,1057690578.0264086,998197936.632722,935790248.1872617,741135531.6311722,616869656.7011387,563267079.4401854,526270510.8699196,378337723.8144788,297727798.4213881,274694054.8212837,178038379.15632707,95111685.05813918],\"yaxis\":\"y\",\"type\":\"bar\"}],                        {\"template\":{\"data\":{\"histogram2dcontour\":[{\"type\":\"histogram2dcontour\",\"colorbar\":{\"outlinewidth\":0,\"ticks\":\"\"},\"colorscale\":[[0.0,\"#0d0887\"],[0.1111111111111111,\"#46039f\"],[0.2222222222222222,\"#7201a8\"],[0.3333333333333333,\"#9c179e\"],[0.4444444444444444,\"#bd3786\"],[0.5555555555555556,\"#d8576b\"],[0.6666666666666666,\"#ed7953\"],[0.7777777777777778,\"#fb9f3a\"],[0.8888888888888888,\"#fdca26\"],[1.0,\"#f0f921\"]]}],\"choropleth\":[{\"type\":\"choropleth\",\"colorbar\":{\"outlinewidth\":0,\"ticks\":\"\"}}],\"histogram2d\":[{\"type\":\"histogram2d\",\"colorbar\":{\"outlinewidth\":0,\"ticks\":\"\"},\"colorscale\":[[0.0,\"#0d0887\"],[0.1111111111111111,\"#46039f\"],[0.2222222222222222,\"#7201a8\"],[0.3333333333333333,\"#9c179e\"],[0.4444444444444444,\"#bd3786\"],[0.5555555555555556,\"#d8576b\"],[0.6666666666666666,\"#ed7953\"],[0.7777777777777778,\"#fb9f3a\"],[0.8888888888888888,\"#fdca26\"],[1.0,\"#f0f921\"]]}],\"heatmap\":[{\"type\":\"heatmap\",\"colorbar\":{\"outlinewidth\":0,\"ticks\":\"\"},\"colorscale\":[[0.0,\"#0d0887\"],[0.1111111111111111,\"#46039f\"],[0.2222222222222222,\"#7201a8\"],[0.3333333333333333,\"#9c179e\"],[0.4444444444444444,\"#bd3786\"],[0.5555555555555556,\"#d8576b\"],[0.6666666666666666,\"#ed7953\"],[0.7777777777777778,\"#fb9f3a\"],[0.8888888888888888,\"#fdca26\"],[1.0,\"#f0f921\"]]}],\"heatmapgl\":[{\"type\":\"heatmapgl\",\"colorbar\":{\"outlinewidth\":0,\"ticks\":\"\"},\"colorscale\":[[0.0,\"#0d0887\"],[0.1111111111111111,\"#46039f\"],[0.2222222222222222,\"#7201a8\"],[0.3333333333333333,\"#9c179e\"],[0.4444444444444444,\"#bd3786\"],[0.5555555555555556,\"#d8576b\"],[0.6666666666666666,\"#ed7953\"],[0.7777777777777778,\"#fb9f3a\"],[0.8888888888888888,\"#fdca26\"],[1.0,\"#f0f921\"]]}],\"contourcarpet\":[{\"type\":\"contourcarpet\",\"colorbar\":{\"outlinewidth\":0,\"ticks\":\"\"}}],\"contour\":[{\"type\":\"contour\",\"colorbar\":{\"outlinewidth\":0,\"ticks\":\"\"},\"colorscale\":[[0.0,\"#0d0887\"],[0.1111111111111111,\"#46039f\"],[0.2222222222222222,\"#7201a8\"],[0.3333333333333333,\"#9c179e\"],[0.4444444444444444,\"#bd3786\"],[0.5555555555555556,\"#d8576b\"],[0.6666666666666666,\"#ed7953\"],[0.7777777777777778,\"#fb9f3a\"],[0.8888888888888888,\"#fdca26\"],[1.0,\"#f0f921\"]]}],\"surface\":[{\"type\":\"surface\",\"colorbar\":{\"outlinewidth\":0,\"ticks\":\"\"},\"colorscale\":[[0.0,\"#0d0887\"],[0.1111111111111111,\"#46039f\"],[0.2222222222222222,\"#7201a8\"],[0.3333333333333333,\"#9c179e\"],[0.4444444444444444,\"#bd3786\"],[0.5555555555555556,\"#d8576b\"],[0.6666666666666666,\"#ed7953\"],[0.7777777777777778,\"#fb9f3a\"],[0.8888888888888888,\"#fdca26\"],[1.0,\"#f0f921\"]]}],\"mesh3d\":[{\"type\":\"mesh3d\",\"colorbar\":{\"outlinewidth\":0,\"ticks\":\"\"}}],\"scatter\":[{\"fillpattern\":{\"fillmode\":\"overlay\",\"size\":10,\"solidity\":0.2},\"type\":\"scatter\"}],\"parcoords\":[{\"type\":\"parcoords\",\"line\":{\"colorbar\":{\"outlinewidth\":0,\"ticks\":\"\"}}}],\"scatterpolargl\":[{\"type\":\"scatterpolargl\",\"marker\":{\"colorbar\":{\"outlinewidth\":0,\"ticks\":\"\"}}}],\"bar\":[{\"error_x\":{\"color\":\"#2a3f5f\"},\"error_y\":{\"color\":\"#2a3f5f\"},\"marker\":{\"line\":{\"color\":\"#E5ECF6\",\"width\":0.5},\"pattern\":{\"fillmode\":\"overlay\",\"size\":10,\"solidity\":0.2}},\"type\":\"bar\"}],\"scattergeo\":[{\"type\":\"scattergeo\",\"marker\":{\"colorbar\":{\"outlinewidth\":0,\"ticks\":\"\"}}}],\"scatterpolar\":[{\"type\":\"scatterpolar\",\"marker\":{\"colorbar\":{\"outlinewidth\":0,\"ticks\":\"\"}}}],\"histogram\":[{\"marker\":{\"pattern\":{\"fillmode\":\"overlay\",\"size\":10,\"solidity\":0.2}},\"type\":\"histogram\"}],\"scattergl\":[{\"type\":\"scattergl\",\"marker\":{\"colorbar\":{\"outlinewidth\":0,\"ticks\":\"\"}}}],\"scatter3d\":[{\"type\":\"scatter3d\",\"line\":{\"colorbar\":{\"outlinewidth\":0,\"ticks\":\"\"}},\"marker\":{\"colorbar\":{\"outlinewidth\":0,\"ticks\":\"\"}}}],\"scattermapbox\":[{\"type\":\"scattermapbox\",\"marker\":{\"colorbar\":{\"outlinewidth\":0,\"ticks\":\"\"}}}],\"scatterternary\":[{\"type\":\"scatterternary\",\"marker\":{\"colorbar\":{\"outlinewidth\":0,\"ticks\":\"\"}}}],\"scattercarpet\":[{\"type\":\"scattercarpet\",\"marker\":{\"colorbar\":{\"outlinewidth\":0,\"ticks\":\"\"}}}],\"carpet\":[{\"aaxis\":{\"endlinecolor\":\"#2a3f5f\",\"gridcolor\":\"white\",\"linecolor\":\"white\",\"minorgridcolor\":\"white\",\"startlinecolor\":\"#2a3f5f\"},\"baxis\":{\"endlinecolor\":\"#2a3f5f\",\"gridcolor\":\"white\",\"linecolor\":\"white\",\"minorgridcolor\":\"white\",\"startlinecolor\":\"#2a3f5f\"},\"type\":\"carpet\"}],\"table\":[{\"cells\":{\"fill\":{\"color\":\"#EBF0F8\"},\"line\":{\"color\":\"white\"}},\"header\":{\"fill\":{\"color\":\"#C8D4E3\"},\"line\":{\"color\":\"white\"}},\"type\":\"table\"}],\"barpolar\":[{\"marker\":{\"line\":{\"color\":\"#E5ECF6\",\"width\":0.5},\"pattern\":{\"fillmode\":\"overlay\",\"size\":10,\"solidity\":0.2}},\"type\":\"barpolar\"}],\"pie\":[{\"automargin\":true,\"type\":\"pie\"}]},\"layout\":{\"autotypenumbers\":\"strict\",\"colorway\":[\"#636efa\",\"#EF553B\",\"#00cc96\",\"#ab63fa\",\"#FFA15A\",\"#19d3f3\",\"#FF6692\",\"#B6E880\",\"#FF97FF\",\"#FECB52\"],\"font\":{\"color\":\"#2a3f5f\"},\"hovermode\":\"closest\",\"hoverlabel\":{\"align\":\"left\"},\"paper_bgcolor\":\"white\",\"plot_bgcolor\":\"#E5ECF6\",\"polar\":{\"bgcolor\":\"#E5ECF6\",\"angularaxis\":{\"gridcolor\":\"white\",\"linecolor\":\"white\",\"ticks\":\"\"},\"radialaxis\":{\"gridcolor\":\"white\",\"linecolor\":\"white\",\"ticks\":\"\"}},\"ternary\":{\"bgcolor\":\"#E5ECF6\",\"aaxis\":{\"gridcolor\":\"white\",\"linecolor\":\"white\",\"ticks\":\"\"},\"baxis\":{\"gridcolor\":\"white\",\"linecolor\":\"white\",\"ticks\":\"\"},\"caxis\":{\"gridcolor\":\"white\",\"linecolor\":\"white\",\"ticks\":\"\"}},\"coloraxis\":{\"colorbar\":{\"outlinewidth\":0,\"ticks\":\"\"}},\"colorscale\":{\"sequential\":[[0.0,\"#0d0887\"],[0.1111111111111111,\"#46039f\"],[0.2222222222222222,\"#7201a8\"],[0.3333333333333333,\"#9c179e\"],[0.4444444444444444,\"#bd3786\"],[0.5555555555555556,\"#d8576b\"],[0.6666666666666666,\"#ed7953\"],[0.7777777777777778,\"#fb9f3a\"],[0.8888888888888888,\"#fdca26\"],[1.0,\"#f0f921\"]],\"sequentialminus\":[[0.0,\"#0d0887\"],[0.1111111111111111,\"#46039f\"],[0.2222222222222222,\"#7201a8\"],[0.3333333333333333,\"#9c179e\"],[0.4444444444444444,\"#bd3786\"],[0.5555555555555556,\"#d8576b\"],[0.6666666666666666,\"#ed7953\"],[0.7777777777777778,\"#fb9f3a\"],[0.8888888888888888,\"#fdca26\"],[1.0,\"#f0f921\"]],\"diverging\":[[0,\"#8e0152\"],[0.1,\"#c51b7d\"],[0.2,\"#de77ae\"],[0.3,\"#f1b6da\"],[0.4,\"#fde0ef\"],[0.5,\"#f7f7f7\"],[0.6,\"#e6f5d0\"],[0.7,\"#b8e186\"],[0.8,\"#7fbc41\"],[0.9,\"#4d9221\"],[1,\"#276419\"]]},\"xaxis\":{\"gridcolor\":\"white\",\"linecolor\":\"white\",\"ticks\":\"\",\"title\":{\"standoff\":15},\"zerolinecolor\":\"white\",\"automargin\":true,\"zerolinewidth\":2},\"yaxis\":{\"gridcolor\":\"white\",\"linecolor\":\"white\",\"ticks\":\"\",\"title\":{\"standoff\":15},\"zerolinecolor\":\"white\",\"automargin\":true,\"zerolinewidth\":2},\"scene\":{\"xaxis\":{\"backgroundcolor\":\"#E5ECF6\",\"gridcolor\":\"white\",\"linecolor\":\"white\",\"showbackground\":true,\"ticks\":\"\",\"zerolinecolor\":\"white\",\"gridwidth\":2},\"yaxis\":{\"backgroundcolor\":\"#E5ECF6\",\"gridcolor\":\"white\",\"linecolor\":\"white\",\"showbackground\":true,\"ticks\":\"\",\"zerolinecolor\":\"white\",\"gridwidth\":2},\"zaxis\":{\"backgroundcolor\":\"#E5ECF6\",\"gridcolor\":\"white\",\"linecolor\":\"white\",\"showbackground\":true,\"ticks\":\"\",\"zerolinecolor\":\"white\",\"gridwidth\":2}},\"shapedefaults\":{\"line\":{\"color\":\"#2a3f5f\"}},\"annotationdefaults\":{\"arrowcolor\":\"#2a3f5f\",\"arrowhead\":0,\"arrowwidth\":1},\"geo\":{\"bgcolor\":\"white\",\"landcolor\":\"#E5ECF6\",\"subunitcolor\":\"white\",\"showland\":true,\"showlakes\":true,\"lakecolor\":\"white\"},\"title\":{\"x\":0.05},\"mapbox\":{\"style\":\"light\"}}},\"xaxis\":{\"anchor\":\"y\",\"domain\":[0.0,1.0],\"title\":{\"text\":\"MONTH\"}},\"yaxis\":{\"anchor\":\"x\",\"domain\":[0.0,1.0],\"title\":{\"text\":\"SUM OF AMOUNT\"}},\"coloraxis\":{\"colorbar\":{\"title\":{\"text\":\"YEAR\"}},\"colorscale\":[[0.0,\"#0d0887\"],[0.1111111111111111,\"#46039f\"],[0.2222222222222222,\"#7201a8\"],[0.3333333333333333,\"#9c179e\"],[0.4444444444444444,\"#bd3786\"],[0.5555555555555556,\"#d8576b\"],[0.6666666666666666,\"#ed7953\"],[0.7777777777777778,\"#fb9f3a\"],[0.8888888888888888,\"#fdca26\"],[1.0,\"#f0f921\"]]},\"legend\":{\"tracegroupgap\":0},\"title\":{\"text\":\"Distribución de Ventas por Mes y Año\"},\"barmode\":\"relative\"},                        {\"responsive\": true}                    ).then(function(){\n",
              "                            \n",
              "var gd = document.getElementById('2731202f-6d77-4a41-a9a5-35e0046edc84');\n",
              "var x = new MutationObserver(function (mutations, observer) {{\n",
              "        var display = window.getComputedStyle(gd).display;\n",
              "        if (!display || display === 'none') {{\n",
              "            console.log([gd, 'removed!']);\n",
              "            Plotly.purge(gd);\n",
              "            observer.disconnect();\n",
              "        }}\n",
              "}});\n",
              "\n",
              "// Listen for the removal of the full notebook cells\n",
              "var notebookContainer = gd.closest('#notebook-container');\n",
              "if (notebookContainer) {{\n",
              "    x.observe(notebookContainer, {childList: true});\n",
              "}}\n",
              "\n",
              "// Listen for the clearing of the current output cell\n",
              "var outputEl = gd.closest('.output');\n",
              "if (outputEl) {{\n",
              "    x.observe(outputEl, {childList: true});\n",
              "}}\n",
              "\n",
              "                        })                };                            </script>        </div>\n",
              "</body>\n",
              "</html>"
            ]
          },
          "metadata": {}
        }
      ]
    },
    {
      "cell_type": "markdown",
      "source": [
        "• Cada marca"
      ],
      "metadata": {
        "id": "Z8JtFW1t9v72"
      }
    },
    {
      "cell_type": "code",
      "source": [
        "data_agg = data.groupby('SUBBRAND')['AMOUNT'].sum().reset_index()\n",
        "\n",
        "# Violin Plot\n",
        "fig_marca = px.bar(data_agg, x='SUBBRAND', y='AMOUNT',title=\"Distribución de Ventas por Marca\")\n",
        "fig_marca.show()"
      ],
      "metadata": {
        "colab": {
          "base_uri": "https://localhost:8080/",
          "height": 542
        },
        "id": "6GxoFH6X95QA",
        "outputId": "968398af-fa4f-4b66-f4e7-da06610aa61f"
      },
      "execution_count": null,
      "outputs": [
        {
          "output_type": "display_data",
          "data": {
            "text/html": [
              "<html>\n",
              "<head><meta charset=\"utf-8\" /></head>\n",
              "<body>\n",
              "    <div>            <script src=\"https://cdnjs.cloudflare.com/ajax/libs/mathjax/2.7.5/MathJax.js?config=TeX-AMS-MML_SVG\"></script><script type=\"text/javascript\">if (window.MathJax && window.MathJax.Hub && window.MathJax.Hub.Config) {window.MathJax.Hub.Config({SVG: {font: \"STIX-Web\"}});}</script>                <script type=\"text/javascript\">window.PlotlyConfig = {MathJaxConfig: 'local'};</script>\n",
              "        <script charset=\"utf-8\" src=\"https://cdn.plot.ly/plotly-2.35.2.min.js\"></script>                <div id=\"43248574-61a7-4c98-b6d3-57d1b6b44072\" class=\"plotly-graph-div\" style=\"height:525px; width:100%;\"></div>            <script type=\"text/javascript\">                                    window.PLOTLYENV=window.PLOTLYENV || {};                                    if (document.getElementById(\"43248574-61a7-4c98-b6d3-57d1b6b44072\")) {                    Plotly.newPlot(                        \"43248574-61a7-4c98-b6d3-57d1b6b44072\",                        [{\"alignmentgroup\":\"True\",\"hovertemplate\":\"SUBBRAND=%{x}\\u003cbr\\u003eAMOUNT=%{y}\\u003cextra\\u003e\\u003c\\u002fextra\\u003e\",\"legendgroup\":\"\",\"marker\":{\"color\":\"#636efa\",\"pattern\":{\"shape\":\"\"}},\"name\":\"\",\"offsetgroup\":\"\",\"orientation\":\"v\",\"showlegend\":false,\"textposition\":\"auto\",\"x\":[\"7up (L3)\",\"7up Free (L3)\",\"Lipton (L3)\",\"Mountain Dew (L3)\",\"Pepsi Max (L3)\",\"Pepsi Regular (L3)\"],\"xaxis\":\"x\",\"y\":[291774648.39777964,1066603061.6494004,1682028286.3695104,131673092.42342074,12295383232.252453,2679291368.5550356],\"yaxis\":\"y\",\"type\":\"bar\"}],                        {\"template\":{\"data\":{\"histogram2dcontour\":[{\"type\":\"histogram2dcontour\",\"colorbar\":{\"outlinewidth\":0,\"ticks\":\"\"},\"colorscale\":[[0.0,\"#0d0887\"],[0.1111111111111111,\"#46039f\"],[0.2222222222222222,\"#7201a8\"],[0.3333333333333333,\"#9c179e\"],[0.4444444444444444,\"#bd3786\"],[0.5555555555555556,\"#d8576b\"],[0.6666666666666666,\"#ed7953\"],[0.7777777777777778,\"#fb9f3a\"],[0.8888888888888888,\"#fdca26\"],[1.0,\"#f0f921\"]]}],\"choropleth\":[{\"type\":\"choropleth\",\"colorbar\":{\"outlinewidth\":0,\"ticks\":\"\"}}],\"histogram2d\":[{\"type\":\"histogram2d\",\"colorbar\":{\"outlinewidth\":0,\"ticks\":\"\"},\"colorscale\":[[0.0,\"#0d0887\"],[0.1111111111111111,\"#46039f\"],[0.2222222222222222,\"#7201a8\"],[0.3333333333333333,\"#9c179e\"],[0.4444444444444444,\"#bd3786\"],[0.5555555555555556,\"#d8576b\"],[0.6666666666666666,\"#ed7953\"],[0.7777777777777778,\"#fb9f3a\"],[0.8888888888888888,\"#fdca26\"],[1.0,\"#f0f921\"]]}],\"heatmap\":[{\"type\":\"heatmap\",\"colorbar\":{\"outlinewidth\":0,\"ticks\":\"\"},\"colorscale\":[[0.0,\"#0d0887\"],[0.1111111111111111,\"#46039f\"],[0.2222222222222222,\"#7201a8\"],[0.3333333333333333,\"#9c179e\"],[0.4444444444444444,\"#bd3786\"],[0.5555555555555556,\"#d8576b\"],[0.6666666666666666,\"#ed7953\"],[0.7777777777777778,\"#fb9f3a\"],[0.8888888888888888,\"#fdca26\"],[1.0,\"#f0f921\"]]}],\"heatmapgl\":[{\"type\":\"heatmapgl\",\"colorbar\":{\"outlinewidth\":0,\"ticks\":\"\"},\"colorscale\":[[0.0,\"#0d0887\"],[0.1111111111111111,\"#46039f\"],[0.2222222222222222,\"#7201a8\"],[0.3333333333333333,\"#9c179e\"],[0.4444444444444444,\"#bd3786\"],[0.5555555555555556,\"#d8576b\"],[0.6666666666666666,\"#ed7953\"],[0.7777777777777778,\"#fb9f3a\"],[0.8888888888888888,\"#fdca26\"],[1.0,\"#f0f921\"]]}],\"contourcarpet\":[{\"type\":\"contourcarpet\",\"colorbar\":{\"outlinewidth\":0,\"ticks\":\"\"}}],\"contour\":[{\"type\":\"contour\",\"colorbar\":{\"outlinewidth\":0,\"ticks\":\"\"},\"colorscale\":[[0.0,\"#0d0887\"],[0.1111111111111111,\"#46039f\"],[0.2222222222222222,\"#7201a8\"],[0.3333333333333333,\"#9c179e\"],[0.4444444444444444,\"#bd3786\"],[0.5555555555555556,\"#d8576b\"],[0.6666666666666666,\"#ed7953\"],[0.7777777777777778,\"#fb9f3a\"],[0.8888888888888888,\"#fdca26\"],[1.0,\"#f0f921\"]]}],\"surface\":[{\"type\":\"surface\",\"colorbar\":{\"outlinewidth\":0,\"ticks\":\"\"},\"colorscale\":[[0.0,\"#0d0887\"],[0.1111111111111111,\"#46039f\"],[0.2222222222222222,\"#7201a8\"],[0.3333333333333333,\"#9c179e\"],[0.4444444444444444,\"#bd3786\"],[0.5555555555555556,\"#d8576b\"],[0.6666666666666666,\"#ed7953\"],[0.7777777777777778,\"#fb9f3a\"],[0.8888888888888888,\"#fdca26\"],[1.0,\"#f0f921\"]]}],\"mesh3d\":[{\"type\":\"mesh3d\",\"colorbar\":{\"outlinewidth\":0,\"ticks\":\"\"}}],\"scatter\":[{\"fillpattern\":{\"fillmode\":\"overlay\",\"size\":10,\"solidity\":0.2},\"type\":\"scatter\"}],\"parcoords\":[{\"type\":\"parcoords\",\"line\":{\"colorbar\":{\"outlinewidth\":0,\"ticks\":\"\"}}}],\"scatterpolargl\":[{\"type\":\"scatterpolargl\",\"marker\":{\"colorbar\":{\"outlinewidth\":0,\"ticks\":\"\"}}}],\"bar\":[{\"error_x\":{\"color\":\"#2a3f5f\"},\"error_y\":{\"color\":\"#2a3f5f\"},\"marker\":{\"line\":{\"color\":\"#E5ECF6\",\"width\":0.5},\"pattern\":{\"fillmode\":\"overlay\",\"size\":10,\"solidity\":0.2}},\"type\":\"bar\"}],\"scattergeo\":[{\"type\":\"scattergeo\",\"marker\":{\"colorbar\":{\"outlinewidth\":0,\"ticks\":\"\"}}}],\"scatterpolar\":[{\"type\":\"scatterpolar\",\"marker\":{\"colorbar\":{\"outlinewidth\":0,\"ticks\":\"\"}}}],\"histogram\":[{\"marker\":{\"pattern\":{\"fillmode\":\"overlay\",\"size\":10,\"solidity\":0.2}},\"type\":\"histogram\"}],\"scattergl\":[{\"type\":\"scattergl\",\"marker\":{\"colorbar\":{\"outlinewidth\":0,\"ticks\":\"\"}}}],\"scatter3d\":[{\"type\":\"scatter3d\",\"line\":{\"colorbar\":{\"outlinewidth\":0,\"ticks\":\"\"}},\"marker\":{\"colorbar\":{\"outlinewidth\":0,\"ticks\":\"\"}}}],\"scattermapbox\":[{\"type\":\"scattermapbox\",\"marker\":{\"colorbar\":{\"outlinewidth\":0,\"ticks\":\"\"}}}],\"scatterternary\":[{\"type\":\"scatterternary\",\"marker\":{\"colorbar\":{\"outlinewidth\":0,\"ticks\":\"\"}}}],\"scattercarpet\":[{\"type\":\"scattercarpet\",\"marker\":{\"colorbar\":{\"outlinewidth\":0,\"ticks\":\"\"}}}],\"carpet\":[{\"aaxis\":{\"endlinecolor\":\"#2a3f5f\",\"gridcolor\":\"white\",\"linecolor\":\"white\",\"minorgridcolor\":\"white\",\"startlinecolor\":\"#2a3f5f\"},\"baxis\":{\"endlinecolor\":\"#2a3f5f\",\"gridcolor\":\"white\",\"linecolor\":\"white\",\"minorgridcolor\":\"white\",\"startlinecolor\":\"#2a3f5f\"},\"type\":\"carpet\"}],\"table\":[{\"cells\":{\"fill\":{\"color\":\"#EBF0F8\"},\"line\":{\"color\":\"white\"}},\"header\":{\"fill\":{\"color\":\"#C8D4E3\"},\"line\":{\"color\":\"white\"}},\"type\":\"table\"}],\"barpolar\":[{\"marker\":{\"line\":{\"color\":\"#E5ECF6\",\"width\":0.5},\"pattern\":{\"fillmode\":\"overlay\",\"size\":10,\"solidity\":0.2}},\"type\":\"barpolar\"}],\"pie\":[{\"automargin\":true,\"type\":\"pie\"}]},\"layout\":{\"autotypenumbers\":\"strict\",\"colorway\":[\"#636efa\",\"#EF553B\",\"#00cc96\",\"#ab63fa\",\"#FFA15A\",\"#19d3f3\",\"#FF6692\",\"#B6E880\",\"#FF97FF\",\"#FECB52\"],\"font\":{\"color\":\"#2a3f5f\"},\"hovermode\":\"closest\",\"hoverlabel\":{\"align\":\"left\"},\"paper_bgcolor\":\"white\",\"plot_bgcolor\":\"#E5ECF6\",\"polar\":{\"bgcolor\":\"#E5ECF6\",\"angularaxis\":{\"gridcolor\":\"white\",\"linecolor\":\"white\",\"ticks\":\"\"},\"radialaxis\":{\"gridcolor\":\"white\",\"linecolor\":\"white\",\"ticks\":\"\"}},\"ternary\":{\"bgcolor\":\"#E5ECF6\",\"aaxis\":{\"gridcolor\":\"white\",\"linecolor\":\"white\",\"ticks\":\"\"},\"baxis\":{\"gridcolor\":\"white\",\"linecolor\":\"white\",\"ticks\":\"\"},\"caxis\":{\"gridcolor\":\"white\",\"linecolor\":\"white\",\"ticks\":\"\"}},\"coloraxis\":{\"colorbar\":{\"outlinewidth\":0,\"ticks\":\"\"}},\"colorscale\":{\"sequential\":[[0.0,\"#0d0887\"],[0.1111111111111111,\"#46039f\"],[0.2222222222222222,\"#7201a8\"],[0.3333333333333333,\"#9c179e\"],[0.4444444444444444,\"#bd3786\"],[0.5555555555555556,\"#d8576b\"],[0.6666666666666666,\"#ed7953\"],[0.7777777777777778,\"#fb9f3a\"],[0.8888888888888888,\"#fdca26\"],[1.0,\"#f0f921\"]],\"sequentialminus\":[[0.0,\"#0d0887\"],[0.1111111111111111,\"#46039f\"],[0.2222222222222222,\"#7201a8\"],[0.3333333333333333,\"#9c179e\"],[0.4444444444444444,\"#bd3786\"],[0.5555555555555556,\"#d8576b\"],[0.6666666666666666,\"#ed7953\"],[0.7777777777777778,\"#fb9f3a\"],[0.8888888888888888,\"#fdca26\"],[1.0,\"#f0f921\"]],\"diverging\":[[0,\"#8e0152\"],[0.1,\"#c51b7d\"],[0.2,\"#de77ae\"],[0.3,\"#f1b6da\"],[0.4,\"#fde0ef\"],[0.5,\"#f7f7f7\"],[0.6,\"#e6f5d0\"],[0.7,\"#b8e186\"],[0.8,\"#7fbc41\"],[0.9,\"#4d9221\"],[1,\"#276419\"]]},\"xaxis\":{\"gridcolor\":\"white\",\"linecolor\":\"white\",\"ticks\":\"\",\"title\":{\"standoff\":15},\"zerolinecolor\":\"white\",\"automargin\":true,\"zerolinewidth\":2},\"yaxis\":{\"gridcolor\":\"white\",\"linecolor\":\"white\",\"ticks\":\"\",\"title\":{\"standoff\":15},\"zerolinecolor\":\"white\",\"automargin\":true,\"zerolinewidth\":2},\"scene\":{\"xaxis\":{\"backgroundcolor\":\"#E5ECF6\",\"gridcolor\":\"white\",\"linecolor\":\"white\",\"showbackground\":true,\"ticks\":\"\",\"zerolinecolor\":\"white\",\"gridwidth\":2},\"yaxis\":{\"backgroundcolor\":\"#E5ECF6\",\"gridcolor\":\"white\",\"linecolor\":\"white\",\"showbackground\":true,\"ticks\":\"\",\"zerolinecolor\":\"white\",\"gridwidth\":2},\"zaxis\":{\"backgroundcolor\":\"#E5ECF6\",\"gridcolor\":\"white\",\"linecolor\":\"white\",\"showbackground\":true,\"ticks\":\"\",\"zerolinecolor\":\"white\",\"gridwidth\":2}},\"shapedefaults\":{\"line\":{\"color\":\"#2a3f5f\"}},\"annotationdefaults\":{\"arrowcolor\":\"#2a3f5f\",\"arrowhead\":0,\"arrowwidth\":1},\"geo\":{\"bgcolor\":\"white\",\"landcolor\":\"#E5ECF6\",\"subunitcolor\":\"white\",\"showland\":true,\"showlakes\":true,\"lakecolor\":\"white\"},\"title\":{\"x\":0.05},\"mapbox\":{\"style\":\"light\"}}},\"xaxis\":{\"anchor\":\"y\",\"domain\":[0.0,1.0],\"title\":{\"text\":\"SUBBRAND\"}},\"yaxis\":{\"anchor\":\"x\",\"domain\":[0.0,1.0],\"title\":{\"text\":\"AMOUNT\"}},\"legend\":{\"tracegroupgap\":0},\"title\":{\"text\":\"Distribución de Ventas por Marca\"},\"barmode\":\"relative\"},                        {\"responsive\": true}                    ).then(function(){\n",
              "                            \n",
              "var gd = document.getElementById('43248574-61a7-4c98-b6d3-57d1b6b44072');\n",
              "var x = new MutationObserver(function (mutations, observer) {{\n",
              "        var display = window.getComputedStyle(gd).display;\n",
              "        if (!display || display === 'none') {{\n",
              "            console.log([gd, 'removed!']);\n",
              "            Plotly.purge(gd);\n",
              "            observer.disconnect();\n",
              "        }}\n",
              "}});\n",
              "\n",
              "// Listen for the removal of the full notebook cells\n",
              "var notebookContainer = gd.closest('#notebook-container');\n",
              "if (notebookContainer) {{\n",
              "    x.observe(notebookContainer, {childList: true});\n",
              "}}\n",
              "\n",
              "// Listen for the clearing of the current output cell\n",
              "var outputEl = gd.closest('.output');\n",
              "if (outputEl) {{\n",
              "    x.observe(outputEl, {childList: true});\n",
              "}}\n",
              "\n",
              "                        })                };                            </script>        </div>\n",
              "</body>\n",
              "</html>"
            ]
          },
          "metadata": {}
        }
      ]
    },
    {
      "cell_type": "markdown",
      "source": [
        "La tendencia muestra el movimiento o la dirección a largo plazo de los datos, mientras que la estacionalidad se refiere a patrones que se repiten en intervalos regulares.\n",
        "\n",
        "2. Cual es la tendencia y estacionalidad de:  \n",
        "• Todas las ventas del país con menos ventas"
      ],
      "metadata": {
        "id": "QDIAg9aRA9e6"
      }
    },
    {
      "cell_type": "code",
      "source": [
        "# Identificar el país con menos ventas\n",
        "pais_menos_ventas = data.groupby('COUNTRY')['AMOUNT'].sum().idxmin()\n",
        "data_pais_menos = data[data['COUNTRY'] == pais_menos_ventas]\n",
        "\n",
        "# Agrupar por YEAR y MONTH para obtener el AMOUNT total por mes\n",
        "data_pais_menos_med = data_pais_menos.groupby(['YEAR', 'MONTH'])['AMOUNT'].sum().reset_index()\n",
        "\n",
        "# Crear una columna de fecha para facilitar el análisis de series temporales\n",
        "data_pais_menos_med['DATE'] = pd.to_datetime(data_pais_menos_med['YEAR'].astype(str) + '-' + data_pais_menos_med['MONTH'].astype(str) + '-01')\n",
        "data_pais_menos_med.sort_values('DATE', inplace=True)\n",
        "\n",
        "# Descomposición de la serie temporal para obtener tendencia y estacionalidad\n",
        "result = seasonal_decompose(data_pais_menos_med['AMOUNT'], model='additive', period=12)\n",
        "data_pais_menos_med['Trend'] = result.trend\n",
        "data_pais_menos_med['Seasonal'] = result.seasonal\n",
        "\n",
        "# Crear el gráfico de líneas con Plotly Express\n",
        "fig = px.line(data_pais_menos_med, x='DATE', y='AMOUNT', title=f\"Tendencia, Ventas y Estacionalidad en {pais_menos_ventas}\",\n",
        "              labels={'AMOUNT': 'AMOUNT de Ventas'}, markers=True)\n",
        "\n",
        "# Añadir la tendencia\n",
        "fig.add_scatter(x=data_pais_menos_med['DATE'], y=data_pais_menos_med['Trend'], mode='lines', name='Tendencia', line=dict(color='orange', dash='dash'))\n",
        "\n",
        "# Añadir la estacionalidad\n",
        "fig.add_scatter(x=data_pais_menos_med['DATE'], y=data_pais_menos_med['Seasonal'], mode='lines', name='Estacionalidad', line=dict(color='green', dash='dot'))\n",
        "\n",
        "# Configurar el diseño del gráfico\n",
        "fig.update_layout(\n",
        "    xaxis=dict(\n",
        "        title=\"Fecha\",\n",
        "        tickangle=-45,\n",
        "        dtick=\"M1\",\n",
        "        range=[pd.Timestamp(\"2023-01-01\"), pd.Timestamp(\"2025-05-31\")]),\n",
        "    yaxis_title=\"AMOUNT de Ventas\",\n",
        "    showlegend=True\n",
        ")\n",
        "\n",
        "# Mostrar el gráfico\n",
        "fig.show()"
      ],
      "metadata": {
        "colab": {
          "base_uri": "https://localhost:8080/",
          "height": 542
        },
        "id": "MDsXZhrXBCEh",
        "outputId": "7cfbdf01-ba33-47c9-9aa9-d4f84443ecd8"
      },
      "execution_count": null,
      "outputs": [
        {
          "output_type": "display_data",
          "data": {
            "text/html": [
              "<html>\n",
              "<head><meta charset=\"utf-8\" /></head>\n",
              "<body>\n",
              "    <div>            <script src=\"https://cdnjs.cloudflare.com/ajax/libs/mathjax/2.7.5/MathJax.js?config=TeX-AMS-MML_SVG\"></script><script type=\"text/javascript\">if (window.MathJax && window.MathJax.Hub && window.MathJax.Hub.Config) {window.MathJax.Hub.Config({SVG: {font: \"STIX-Web\"}});}</script>                <script type=\"text/javascript\">window.PlotlyConfig = {MathJaxConfig: 'local'};</script>\n",
              "        <script charset=\"utf-8\" src=\"https://cdn.plot.ly/plotly-2.35.2.min.js\"></script>                <div id=\"9b54c0b0-8607-4ae1-8ef4-49f32633dc7c\" class=\"plotly-graph-div\" style=\"height:525px; width:100%;\"></div>            <script type=\"text/javascript\">                                    window.PLOTLYENV=window.PLOTLYENV || {};                                    if (document.getElementById(\"9b54c0b0-8607-4ae1-8ef4-49f32633dc7c\")) {                    Plotly.newPlot(                        \"9b54c0b0-8607-4ae1-8ef4-49f32633dc7c\",                        [{\"hovertemplate\":\"DATE=%{x}\\u003cbr\\u003eAMOUNT de Ventas=%{y}\\u003cextra\\u003e\\u003c\\u002fextra\\u003e\",\"legendgroup\":\"\",\"line\":{\"color\":\"#636efa\",\"dash\":\"solid\"},\"marker\":{\"symbol\":\"circle\"},\"mode\":\"lines+markers\",\"name\":\"\",\"orientation\":\"v\",\"showlegend\":false,\"x\":[\"2023-01-01T00:00:00\",\"2023-02-01T00:00:00\",\"2023-03-01T00:00:00\",\"2023-04-01T00:00:00\",\"2023-05-01T00:00:00\",\"2023-06-01T00:00:00\",\"2023-07-01T00:00:00\",\"2023-08-01T00:00:00\",\"2023-09-01T00:00:00\",\"2023-10-01T00:00:00\",\"2023-11-01T00:00:00\",\"2023-12-01T00:00:00\",\"2024-01-01T00:00:00\",\"2024-02-01T00:00:00\",\"2024-03-01T00:00:00\",\"2024-04-01T00:00:00\",\"2024-05-01T00:00:00\",\"2024-06-01T00:00:00\",\"2024-07-01T00:00:00\",\"2024-08-01T00:00:00\",\"2024-09-01T00:00:00\",\"2024-10-01T00:00:00\",\"2024-11-01T00:00:00\",\"2024-12-01T00:00:00\",\"2025-01-01T00:00:00\",\"2025-02-01T00:00:00\",\"2025-03-01T00:00:00\",\"2025-04-01T00:00:00\",\"2025-05-01T00:00:00\"],\"xaxis\":\"x\",\"y\":[648065.0125652628,929784.8167526724,1362918.3531613494,2021080.974002957,2884209.100823774,4564860.698462453,7015604.351050884,8729779.559415407,8362928.521603579,9623889.670788888,9830211.583056886,11581691.487263426,9649537.840869572,9262758.731159857,10875091.111559197,10303345.093496649,10543220.954217376,12448521.464577943,14887319.352427838,14979509.943967976,12121506.980842179,10929771.682070559,8871117.123806614,8136421.450135403,5720172.312459191,4498044.93994397,3995821.0329355802,2470961.5773808025,1245423.682630845],\"yaxis\":\"y\",\"type\":\"scatter\"},{\"line\":{\"color\":\"orange\",\"dash\":\"dash\"},\"mode\":\"lines\",\"name\":\"Tendencia\",\"x\":[\"2023-01-01T00:00:00\",\"2023-02-01T00:00:00\",\"2023-03-01T00:00:00\",\"2023-04-01T00:00:00\",\"2023-05-01T00:00:00\",\"2023-06-01T00:00:00\",\"2023-07-01T00:00:00\",\"2023-08-01T00:00:00\",\"2023-09-01T00:00:00\",\"2023-10-01T00:00:00\",\"2023-11-01T00:00:00\",\"2023-12-01T00:00:00\",\"2024-01-01T00:00:00\",\"2024-02-01T00:00:00\",\"2024-03-01T00:00:00\",\"2024-04-01T00:00:00\",\"2024-05-01T00:00:00\",\"2024-06-01T00:00:00\",\"2024-07-01T00:00:00\",\"2024-08-01T00:00:00\",\"2024-09-01T00:00:00\",\"2024-10-01T00:00:00\",\"2024-11-01T00:00:00\",\"2024-12-01T00:00:00\",\"2025-01-01T00:00:00\",\"2025-02-01T00:00:00\",\"2025-03-01T00:00:00\",\"2025-04-01T00:00:00\",\"2025-05-01T00:00:00\"],\"y\":[null,null,null,null,null,null,6004646.711924974,6726915.326204619,7470463.104238163,8211897.97415031,8876117.806353947,9523729.16550016,10180203.155812345,10768596.713559408,11185609.582050707,11396628.768322386,11411078.249657026,11227563.062307931,10920286.580410497,10558033.27542607,10072867.280849423,9459881.714401945,8746124.181581013,null,null,null,null,null,null],\"type\":\"scatter\"},{\"line\":{\"color\":\"green\",\"dash\":\"dot\"},\"mode\":\"lines\",\"name\":\"Estacionalidad\",\"x\":[\"2023-01-01T00:00:00\",\"2023-02-01T00:00:00\",\"2023-03-01T00:00:00\",\"2023-04-01T00:00:00\",\"2023-05-01T00:00:00\",\"2023-06-01T00:00:00\",\"2023-07-01T00:00:00\",\"2023-08-01T00:00:00\",\"2023-09-01T00:00:00\",\"2023-10-01T00:00:00\",\"2023-11-01T00:00:00\",\"2023-12-01T00:00:00\",\"2024-01-01T00:00:00\",\"2024-02-01T00:00:00\",\"2024-03-01T00:00:00\",\"2024-04-01T00:00:00\",\"2024-05-01T00:00:00\",\"2024-06-01T00:00:00\",\"2024-07-01T00:00:00\",\"2024-08-01T00:00:00\",\"2024-09-01T00:00:00\",\"2024-10-01T00:00:00\",\"2024-11-01T00:00:00\",\"2024-12-01T00:00:00\",\"2025-01-01T00:00:00\",\"2025-02-01T00:00:00\",\"2025-03-01T00:00:00\",\"2025-04-01T00:00:00\",\"2025-05-01T00:00:00\"],\"y\":[-1207578.6809993552,-2182751.348456133,-987431.8365480916,-1770197.040882319,-1544770.661496231,544045.0362134299,1812081.8395150441,2535257.0848197658,793639.192622504,764027.4660970138,-137370.00659231166,1381048.9557066842,-1207578.6809993552,-2182751.348456133,-987431.8365480916,-1770197.040882319,-1544770.661496231,544045.0362134299,1812081.8395150441,2535257.0848197658,793639.192622504,764027.4660970138,-137370.00659231166,1381048.9557066842,-1207578.6809993552,-2182751.348456133,-987431.8365480916,-1770197.040882319,-1544770.661496231],\"type\":\"scatter\"}],                        {\"template\":{\"data\":{\"histogram2dcontour\":[{\"type\":\"histogram2dcontour\",\"colorbar\":{\"outlinewidth\":0,\"ticks\":\"\"},\"colorscale\":[[0.0,\"#0d0887\"],[0.1111111111111111,\"#46039f\"],[0.2222222222222222,\"#7201a8\"],[0.3333333333333333,\"#9c179e\"],[0.4444444444444444,\"#bd3786\"],[0.5555555555555556,\"#d8576b\"],[0.6666666666666666,\"#ed7953\"],[0.7777777777777778,\"#fb9f3a\"],[0.8888888888888888,\"#fdca26\"],[1.0,\"#f0f921\"]]}],\"choropleth\":[{\"type\":\"choropleth\",\"colorbar\":{\"outlinewidth\":0,\"ticks\":\"\"}}],\"histogram2d\":[{\"type\":\"histogram2d\",\"colorbar\":{\"outlinewidth\":0,\"ticks\":\"\"},\"colorscale\":[[0.0,\"#0d0887\"],[0.1111111111111111,\"#46039f\"],[0.2222222222222222,\"#7201a8\"],[0.3333333333333333,\"#9c179e\"],[0.4444444444444444,\"#bd3786\"],[0.5555555555555556,\"#d8576b\"],[0.6666666666666666,\"#ed7953\"],[0.7777777777777778,\"#fb9f3a\"],[0.8888888888888888,\"#fdca26\"],[1.0,\"#f0f921\"]]}],\"heatmap\":[{\"type\":\"heatmap\",\"colorbar\":{\"outlinewidth\":0,\"ticks\":\"\"},\"colorscale\":[[0.0,\"#0d0887\"],[0.1111111111111111,\"#46039f\"],[0.2222222222222222,\"#7201a8\"],[0.3333333333333333,\"#9c179e\"],[0.4444444444444444,\"#bd3786\"],[0.5555555555555556,\"#d8576b\"],[0.6666666666666666,\"#ed7953\"],[0.7777777777777778,\"#fb9f3a\"],[0.8888888888888888,\"#fdca26\"],[1.0,\"#f0f921\"]]}],\"heatmapgl\":[{\"type\":\"heatmapgl\",\"colorbar\":{\"outlinewidth\":0,\"ticks\":\"\"},\"colorscale\":[[0.0,\"#0d0887\"],[0.1111111111111111,\"#46039f\"],[0.2222222222222222,\"#7201a8\"],[0.3333333333333333,\"#9c179e\"],[0.4444444444444444,\"#bd3786\"],[0.5555555555555556,\"#d8576b\"],[0.6666666666666666,\"#ed7953\"],[0.7777777777777778,\"#fb9f3a\"],[0.8888888888888888,\"#fdca26\"],[1.0,\"#f0f921\"]]}],\"contourcarpet\":[{\"type\":\"contourcarpet\",\"colorbar\":{\"outlinewidth\":0,\"ticks\":\"\"}}],\"contour\":[{\"type\":\"contour\",\"colorbar\":{\"outlinewidth\":0,\"ticks\":\"\"},\"colorscale\":[[0.0,\"#0d0887\"],[0.1111111111111111,\"#46039f\"],[0.2222222222222222,\"#7201a8\"],[0.3333333333333333,\"#9c179e\"],[0.4444444444444444,\"#bd3786\"],[0.5555555555555556,\"#d8576b\"],[0.6666666666666666,\"#ed7953\"],[0.7777777777777778,\"#fb9f3a\"],[0.8888888888888888,\"#fdca26\"],[1.0,\"#f0f921\"]]}],\"surface\":[{\"type\":\"surface\",\"colorbar\":{\"outlinewidth\":0,\"ticks\":\"\"},\"colorscale\":[[0.0,\"#0d0887\"],[0.1111111111111111,\"#46039f\"],[0.2222222222222222,\"#7201a8\"],[0.3333333333333333,\"#9c179e\"],[0.4444444444444444,\"#bd3786\"],[0.5555555555555556,\"#d8576b\"],[0.6666666666666666,\"#ed7953\"],[0.7777777777777778,\"#fb9f3a\"],[0.8888888888888888,\"#fdca26\"],[1.0,\"#f0f921\"]]}],\"mesh3d\":[{\"type\":\"mesh3d\",\"colorbar\":{\"outlinewidth\":0,\"ticks\":\"\"}}],\"scatter\":[{\"fillpattern\":{\"fillmode\":\"overlay\",\"size\":10,\"solidity\":0.2},\"type\":\"scatter\"}],\"parcoords\":[{\"type\":\"parcoords\",\"line\":{\"colorbar\":{\"outlinewidth\":0,\"ticks\":\"\"}}}],\"scatterpolargl\":[{\"type\":\"scatterpolargl\",\"marker\":{\"colorbar\":{\"outlinewidth\":0,\"ticks\":\"\"}}}],\"bar\":[{\"error_x\":{\"color\":\"#2a3f5f\"},\"error_y\":{\"color\":\"#2a3f5f\"},\"marker\":{\"line\":{\"color\":\"#E5ECF6\",\"width\":0.5},\"pattern\":{\"fillmode\":\"overlay\",\"size\":10,\"solidity\":0.2}},\"type\":\"bar\"}],\"scattergeo\":[{\"type\":\"scattergeo\",\"marker\":{\"colorbar\":{\"outlinewidth\":0,\"ticks\":\"\"}}}],\"scatterpolar\":[{\"type\":\"scatterpolar\",\"marker\":{\"colorbar\":{\"outlinewidth\":0,\"ticks\":\"\"}}}],\"histogram\":[{\"marker\":{\"pattern\":{\"fillmode\":\"overlay\",\"size\":10,\"solidity\":0.2}},\"type\":\"histogram\"}],\"scattergl\":[{\"type\":\"scattergl\",\"marker\":{\"colorbar\":{\"outlinewidth\":0,\"ticks\":\"\"}}}],\"scatter3d\":[{\"type\":\"scatter3d\",\"line\":{\"colorbar\":{\"outlinewidth\":0,\"ticks\":\"\"}},\"marker\":{\"colorbar\":{\"outlinewidth\":0,\"ticks\":\"\"}}}],\"scattermapbox\":[{\"type\":\"scattermapbox\",\"marker\":{\"colorbar\":{\"outlinewidth\":0,\"ticks\":\"\"}}}],\"scatterternary\":[{\"type\":\"scatterternary\",\"marker\":{\"colorbar\":{\"outlinewidth\":0,\"ticks\":\"\"}}}],\"scattercarpet\":[{\"type\":\"scattercarpet\",\"marker\":{\"colorbar\":{\"outlinewidth\":0,\"ticks\":\"\"}}}],\"carpet\":[{\"aaxis\":{\"endlinecolor\":\"#2a3f5f\",\"gridcolor\":\"white\",\"linecolor\":\"white\",\"minorgridcolor\":\"white\",\"startlinecolor\":\"#2a3f5f\"},\"baxis\":{\"endlinecolor\":\"#2a3f5f\",\"gridcolor\":\"white\",\"linecolor\":\"white\",\"minorgridcolor\":\"white\",\"startlinecolor\":\"#2a3f5f\"},\"type\":\"carpet\"}],\"table\":[{\"cells\":{\"fill\":{\"color\":\"#EBF0F8\"},\"line\":{\"color\":\"white\"}},\"header\":{\"fill\":{\"color\":\"#C8D4E3\"},\"line\":{\"color\":\"white\"}},\"type\":\"table\"}],\"barpolar\":[{\"marker\":{\"line\":{\"color\":\"#E5ECF6\",\"width\":0.5},\"pattern\":{\"fillmode\":\"overlay\",\"size\":10,\"solidity\":0.2}},\"type\":\"barpolar\"}],\"pie\":[{\"automargin\":true,\"type\":\"pie\"}]},\"layout\":{\"autotypenumbers\":\"strict\",\"colorway\":[\"#636efa\",\"#EF553B\",\"#00cc96\",\"#ab63fa\",\"#FFA15A\",\"#19d3f3\",\"#FF6692\",\"#B6E880\",\"#FF97FF\",\"#FECB52\"],\"font\":{\"color\":\"#2a3f5f\"},\"hovermode\":\"closest\",\"hoverlabel\":{\"align\":\"left\"},\"paper_bgcolor\":\"white\",\"plot_bgcolor\":\"#E5ECF6\",\"polar\":{\"bgcolor\":\"#E5ECF6\",\"angularaxis\":{\"gridcolor\":\"white\",\"linecolor\":\"white\",\"ticks\":\"\"},\"radialaxis\":{\"gridcolor\":\"white\",\"linecolor\":\"white\",\"ticks\":\"\"}},\"ternary\":{\"bgcolor\":\"#E5ECF6\",\"aaxis\":{\"gridcolor\":\"white\",\"linecolor\":\"white\",\"ticks\":\"\"},\"baxis\":{\"gridcolor\":\"white\",\"linecolor\":\"white\",\"ticks\":\"\"},\"caxis\":{\"gridcolor\":\"white\",\"linecolor\":\"white\",\"ticks\":\"\"}},\"coloraxis\":{\"colorbar\":{\"outlinewidth\":0,\"ticks\":\"\"}},\"colorscale\":{\"sequential\":[[0.0,\"#0d0887\"],[0.1111111111111111,\"#46039f\"],[0.2222222222222222,\"#7201a8\"],[0.3333333333333333,\"#9c179e\"],[0.4444444444444444,\"#bd3786\"],[0.5555555555555556,\"#d8576b\"],[0.6666666666666666,\"#ed7953\"],[0.7777777777777778,\"#fb9f3a\"],[0.8888888888888888,\"#fdca26\"],[1.0,\"#f0f921\"]],\"sequentialminus\":[[0.0,\"#0d0887\"],[0.1111111111111111,\"#46039f\"],[0.2222222222222222,\"#7201a8\"],[0.3333333333333333,\"#9c179e\"],[0.4444444444444444,\"#bd3786\"],[0.5555555555555556,\"#d8576b\"],[0.6666666666666666,\"#ed7953\"],[0.7777777777777778,\"#fb9f3a\"],[0.8888888888888888,\"#fdca26\"],[1.0,\"#f0f921\"]],\"diverging\":[[0,\"#8e0152\"],[0.1,\"#c51b7d\"],[0.2,\"#de77ae\"],[0.3,\"#f1b6da\"],[0.4,\"#fde0ef\"],[0.5,\"#f7f7f7\"],[0.6,\"#e6f5d0\"],[0.7,\"#b8e186\"],[0.8,\"#7fbc41\"],[0.9,\"#4d9221\"],[1,\"#276419\"]]},\"xaxis\":{\"gridcolor\":\"white\",\"linecolor\":\"white\",\"ticks\":\"\",\"title\":{\"standoff\":15},\"zerolinecolor\":\"white\",\"automargin\":true,\"zerolinewidth\":2},\"yaxis\":{\"gridcolor\":\"white\",\"linecolor\":\"white\",\"ticks\":\"\",\"title\":{\"standoff\":15},\"zerolinecolor\":\"white\",\"automargin\":true,\"zerolinewidth\":2},\"scene\":{\"xaxis\":{\"backgroundcolor\":\"#E5ECF6\",\"gridcolor\":\"white\",\"linecolor\":\"white\",\"showbackground\":true,\"ticks\":\"\",\"zerolinecolor\":\"white\",\"gridwidth\":2},\"yaxis\":{\"backgroundcolor\":\"#E5ECF6\",\"gridcolor\":\"white\",\"linecolor\":\"white\",\"showbackground\":true,\"ticks\":\"\",\"zerolinecolor\":\"white\",\"gridwidth\":2},\"zaxis\":{\"backgroundcolor\":\"#E5ECF6\",\"gridcolor\":\"white\",\"linecolor\":\"white\",\"showbackground\":true,\"ticks\":\"\",\"zerolinecolor\":\"white\",\"gridwidth\":2}},\"shapedefaults\":{\"line\":{\"color\":\"#2a3f5f\"}},\"annotationdefaults\":{\"arrowcolor\":\"#2a3f5f\",\"arrowhead\":0,\"arrowwidth\":1},\"geo\":{\"bgcolor\":\"white\",\"landcolor\":\"#E5ECF6\",\"subunitcolor\":\"white\",\"showland\":true,\"showlakes\":true,\"lakecolor\":\"white\"},\"title\":{\"x\":0.05},\"mapbox\":{\"style\":\"light\"}}},\"xaxis\":{\"anchor\":\"y\",\"domain\":[0.0,1.0],\"title\":{\"text\":\"Fecha\"},\"tickangle\":-45,\"dtick\":\"M1\",\"range\":[\"2023-01-01T00:00:00\",\"2025-05-31T00:00:00\"]},\"yaxis\":{\"anchor\":\"x\",\"domain\":[0.0,1.0],\"title\":{\"text\":\"AMOUNT de Ventas\"}},\"legend\":{\"tracegroupgap\":0},\"title\":{\"text\":\"Tendencia, Ventas y Estacionalidad en Spain\"},\"showlegend\":true},                        {\"responsive\": true}                    ).then(function(){\n",
              "                            \n",
              "var gd = document.getElementById('9b54c0b0-8607-4ae1-8ef4-49f32633dc7c');\n",
              "var x = new MutationObserver(function (mutations, observer) {{\n",
              "        var display = window.getComputedStyle(gd).display;\n",
              "        if (!display || display === 'none') {{\n",
              "            console.log([gd, 'removed!']);\n",
              "            Plotly.purge(gd);\n",
              "            observer.disconnect();\n",
              "        }}\n",
              "}});\n",
              "\n",
              "// Listen for the removal of the full notebook cells\n",
              "var notebookContainer = gd.closest('#notebook-container');\n",
              "if (notebookContainer) {{\n",
              "    x.observe(notebookContainer, {childList: true});\n",
              "}}\n",
              "\n",
              "// Listen for the clearing of the current output cell\n",
              "var outputEl = gd.closest('.output');\n",
              "if (outputEl) {{\n",
              "    x.observe(outputEl, {childList: true});\n",
              "}}\n",
              "\n",
              "                        })                };                            </script>        </div>\n",
              "</body>\n",
              "</html>"
            ]
          },
          "metadata": {}
        }
      ]
    },
    {
      "cell_type": "markdown",
      "source": [
        "Como vemos las ventas comienzan teniedno una tendencia ascendente y despues descendente, por tanto concluimos que tiene tendencia nula.\n",
        "Por otro lado, presenta estacionalidad a lo largo de de los 29 meses, con un patrón de repetición anual."
      ],
      "metadata": {
        "id": "RG6ZXPmFh342"
      }
    },
    {
      "cell_type": "markdown",
      "source": [
        "• La marca con más ventas"
      ],
      "metadata": {
        "id": "JOyVoJ3_DQOQ"
      }
    },
    {
      "cell_type": "code",
      "source": [
        "# Identificar la marca con más ventas\n",
        "marca_mas_ventas = data.groupby('SUBBRAND')['AMOUNT'].sum().idxmax()\n",
        "data_marca_mas = data[data['SUBBRAND'] == marca_mas_ventas]\n",
        "\n",
        "# Agrupar por YEAR y MONTH para obtener el AMOUNT total por mes\n",
        "data_marca_mas_med = data_marca_mas.groupby(['YEAR', 'MONTH'])['AMOUNT'].sum().reset_index()\n",
        "\n",
        "# Crear una columna de fecha para facilitar el análisis de series temporales\n",
        "data_marca_mas_med['DATE'] = pd.to_datetime(data_marca_mas_med['YEAR'].astype(str) + '-' + data_marca_mas_med['MONTH'].astype(str) + '-01')\n",
        "data_marca_mas_med.sort_values('DATE', inplace=True)\n",
        "\n",
        "# Descomposición de la serie temporal para obtener tendencia y estacionalidad\n",
        "result = seasonal_decompose(data_marca_mas_med['AMOUNT'], model='additive', period=12)\n",
        "data_marca_mas_med['Trend'] = result.trend\n",
        "data_marca_mas_med['Seasonal'] = result.seasonal\n",
        "\n",
        "# Crear el gráfico de líneas con Plotly Express\n",
        "fig = px.line(data_marca_mas_med, x='DATE', y='AMOUNT', title=f\"Tendencia, Ventas y Estacionalidad en {marca_mas_ventas}\",\n",
        "              labels={'AMOUNT': 'AMOUNT de Ventas'}, markers=True)\n",
        "\n",
        "# Añadir la tendencia\n",
        "fig.add_scatter(x=data_marca_mas_med['DATE'], y=data_marca_mas_med['Trend'], mode='lines', name='Tendencia', line=dict(color='orange', dash='dash'))\n",
        "\n",
        "# Añadir la estacionalidad\n",
        "fig.add_scatter(x=data_marca_mas_med['DATE'], y=data_marca_mas_med['Seasonal'], mode='lines', name='Estacionalidad', line=dict(color='green', dash='dot'))\n",
        "\n",
        "# Configurar el diseño del gráfico\n",
        "fig.update_layout(\n",
        "     xaxis=dict(\n",
        "        title=\"Fecha\",\n",
        "        tickangle=-45,\n",
        "        dtick=\"M1\",\n",
        "        range=[pd.Timestamp(\"2023-01-01\"), pd.Timestamp(\"2025-05-31\")]),\n",
        "    yaxis_title=\"AMOUNT de Ventas\",\n",
        "    showlegend=True\n",
        ")\n",
        "\n",
        "# Mostrar el gráfico\n",
        "fig.show()"
      ],
      "metadata": {
        "colab": {
          "base_uri": "https://localhost:8080/",
          "height": 542
        },
        "id": "iXZPqGJ7DUZ_",
        "outputId": "74d0fc69-ec5d-4260-cea4-c17e3964f308"
      },
      "execution_count": null,
      "outputs": [
        {
          "output_type": "display_data",
          "data": {
            "text/html": [
              "<html>\n",
              "<head><meta charset=\"utf-8\" /></head>\n",
              "<body>\n",
              "    <div>            <script src=\"https://cdnjs.cloudflare.com/ajax/libs/mathjax/2.7.5/MathJax.js?config=TeX-AMS-MML_SVG\"></script><script type=\"text/javascript\">if (window.MathJax && window.MathJax.Hub && window.MathJax.Hub.Config) {window.MathJax.Hub.Config({SVG: {font: \"STIX-Web\"}});}</script>                <script type=\"text/javascript\">window.PlotlyConfig = {MathJaxConfig: 'local'};</script>\n",
              "        <script charset=\"utf-8\" src=\"https://cdn.plot.ly/plotly-2.35.2.min.js\"></script>                <div id=\"4762faa8-d2ed-406f-ae3f-4e7b0f18164c\" class=\"plotly-graph-div\" style=\"height:525px; width:100%;\"></div>            <script type=\"text/javascript\">                                    window.PLOTLYENV=window.PLOTLYENV || {};                                    if (document.getElementById(\"4762faa8-d2ed-406f-ae3f-4e7b0f18164c\")) {                    Plotly.newPlot(                        \"4762faa8-d2ed-406f-ae3f-4e7b0f18164c\",                        [{\"hovertemplate\":\"DATE=%{x}\\u003cbr\\u003eAMOUNT de Ventas=%{y}\\u003cextra\\u003e\\u003c\\u002fextra\\u003e\",\"legendgroup\":\"\",\"line\":{\"color\":\"#636efa\",\"dash\":\"solid\"},\"marker\":{\"symbol\":\"circle\"},\"mode\":\"lines+markers\",\"name\":\"\",\"orientation\":\"v\",\"showlegend\":false,\"x\":[\"2023-01-01T00:00:00\",\"2023-02-01T00:00:00\",\"2023-03-01T00:00:00\",\"2023-04-01T00:00:00\",\"2023-05-01T00:00:00\",\"2023-06-01T00:00:00\",\"2023-07-01T00:00:00\",\"2023-08-01T00:00:00\",\"2023-09-01T00:00:00\",\"2023-10-01T00:00:00\",\"2023-11-01T00:00:00\",\"2023-12-01T00:00:00\",\"2024-01-01T00:00:00\",\"2024-02-01T00:00:00\",\"2024-03-01T00:00:00\",\"2024-04-01T00:00:00\",\"2024-05-01T00:00:00\",\"2024-06-01T00:00:00\",\"2024-07-01T00:00:00\",\"2024-08-01T00:00:00\",\"2024-09-01T00:00:00\",\"2024-10-01T00:00:00\",\"2024-11-01T00:00:00\",\"2024-12-01T00:00:00\",\"2025-01-01T00:00:00\",\"2025-02-01T00:00:00\",\"2025-03-01T00:00:00\",\"2025-04-01T00:00:00\",\"2025-05-01T00:00:00\"],\"xaxis\":\"x\",\"y\":[56969080.21748668,106965061.56541106,173541815.75490946,221836272.3592259,294480532.5743582,335955196.8991833,384668782.2399508,470817870.40352196,492659886.18626773,526603167.8961294,624252000.8890239,720528437.2615377,570074333.4642355,590329593.3209069,700517217.049688,689786337.326938,736677305.4348798,705011952.674724,646100894.5287892,620793952.487331,501111721.72474456,426346944.890829,409495932.5723342,382620812.3673548,272003761.4001938,225805188.86644003,204690642.14015517,133766176.831474,70972360.92442805],\"yaxis\":\"y\",\"type\":\"scatter\"},{\"line\":{\"color\":\"orange\",\"dash\":\"dash\"},\"mode\":\"lines\",\"name\":\"Tendencia\",\"x\":[\"2023-01-01T00:00:00\",\"2023-02-01T00:00:00\",\"2023-03-01T00:00:00\",\"2023-04-01T00:00:00\",\"2023-05-01T00:00:00\",\"2023-06-01T00:00:00\",\"2023-07-01T00:00:00\",\"2023-08-01T00:00:00\",\"2023-09-01T00:00:00\",\"2023-10-01T00:00:00\",\"2023-11-01T00:00:00\",\"2023-12-01T00:00:00\",\"2024-01-01T00:00:00\",\"2024-02-01T00:00:00\",\"2024-03-01T00:00:00\",\"2024-04-01T00:00:00\",\"2024-05-01T00:00:00\",\"2024-06-01T00:00:00\",\"2024-07-01T00:00:00\",\"2024-08-01T00:00:00\",\"2024-09-01T00:00:00\",\"2024-10-01T00:00:00\",\"2024-11-01T00:00:00\",\"2024-12-01T00:00:00\",\"2025-01-01T00:00:00\",\"2025-02-01T00:00:00\",\"2025-03-01T00:00:00\",\"2025-04-01T00:00:00\",\"2025-05-01T00:00:00\"],\"y\":[null,null,null,null,null,null,388819227.5725317,430338801.9476253,472436299.1580533,513891526.91899043,551814311.8285002,585616542.188336,611886911.6910186,629028919.789879,635630083.024141,631804900.2130232,618679388.074607,595651734.1908207,569152642.6508945,541544518.62929,505696561.15579003,461869613.84724844,410964401.1386686,null,null,null,null,null,null],\"type\":\"scatter\"},{\"line\":{\"color\":\"green\",\"dash\":\"dot\"},\"mode\":\"lines\",\"name\":\"Estacionalidad\",\"x\":[\"2023-01-01T00:00:00\",\"2023-02-01T00:00:00\",\"2023-03-01T00:00:00\",\"2023-04-01T00:00:00\",\"2023-05-01T00:00:00\",\"2023-06-01T00:00:00\",\"2023-07-01T00:00:00\",\"2023-08-01T00:00:00\",\"2023-09-01T00:00:00\",\"2023-10-01T00:00:00\",\"2023-11-01T00:00:00\",\"2023-12-01T00:00:00\",\"2024-01-01T00:00:00\",\"2024-02-01T00:00:00\",\"2024-03-01T00:00:00\",\"2024-04-01T00:00:00\",\"2024-05-01T00:00:00\",\"2024-06-01T00:00:00\",\"2024-07-01T00:00:00\",\"2024-08-01T00:00:00\",\"2024-09-01T00:00:00\",\"2024-10-01T00:00:00\",\"2024-11-01T00:00:00\",\"2024-12-01T00:00:00\",\"2025-01-01T00:00:00\",\"2025-02-01T00:00:00\",\"2025-03-01T00:00:00\",\"2025-04-01T00:00:00\",\"2025-05-01T00:00:00\"],\"y\":[-86211605.04734546,-83098353.28953451,20488107.204984605,13582410.293352425,73598890.53971034,64961191.66334087,-8000123.547905564,15465224.33640644,-36579653.02197793,-55804540.81020263,-8914416.573467761,90512868.25263923,-86211605.04734546,-83098353.28953451,20488107.204984605,13582410.293352425,73598890.53971034,64961191.66334087,-8000123.547905564,15465224.33640644,-36579653.02197793,-55804540.81020263,-8914416.573467761,90512868.25263923,-86211605.04734546,-83098353.28953451,20488107.204984605,13582410.293352425,73598890.53971034],\"type\":\"scatter\"}],                        {\"template\":{\"data\":{\"histogram2dcontour\":[{\"type\":\"histogram2dcontour\",\"colorbar\":{\"outlinewidth\":0,\"ticks\":\"\"},\"colorscale\":[[0.0,\"#0d0887\"],[0.1111111111111111,\"#46039f\"],[0.2222222222222222,\"#7201a8\"],[0.3333333333333333,\"#9c179e\"],[0.4444444444444444,\"#bd3786\"],[0.5555555555555556,\"#d8576b\"],[0.6666666666666666,\"#ed7953\"],[0.7777777777777778,\"#fb9f3a\"],[0.8888888888888888,\"#fdca26\"],[1.0,\"#f0f921\"]]}],\"choropleth\":[{\"type\":\"choropleth\",\"colorbar\":{\"outlinewidth\":0,\"ticks\":\"\"}}],\"histogram2d\":[{\"type\":\"histogram2d\",\"colorbar\":{\"outlinewidth\":0,\"ticks\":\"\"},\"colorscale\":[[0.0,\"#0d0887\"],[0.1111111111111111,\"#46039f\"],[0.2222222222222222,\"#7201a8\"],[0.3333333333333333,\"#9c179e\"],[0.4444444444444444,\"#bd3786\"],[0.5555555555555556,\"#d8576b\"],[0.6666666666666666,\"#ed7953\"],[0.7777777777777778,\"#fb9f3a\"],[0.8888888888888888,\"#fdca26\"],[1.0,\"#f0f921\"]]}],\"heatmap\":[{\"type\":\"heatmap\",\"colorbar\":{\"outlinewidth\":0,\"ticks\":\"\"},\"colorscale\":[[0.0,\"#0d0887\"],[0.1111111111111111,\"#46039f\"],[0.2222222222222222,\"#7201a8\"],[0.3333333333333333,\"#9c179e\"],[0.4444444444444444,\"#bd3786\"],[0.5555555555555556,\"#d8576b\"],[0.6666666666666666,\"#ed7953\"],[0.7777777777777778,\"#fb9f3a\"],[0.8888888888888888,\"#fdca26\"],[1.0,\"#f0f921\"]]}],\"heatmapgl\":[{\"type\":\"heatmapgl\",\"colorbar\":{\"outlinewidth\":0,\"ticks\":\"\"},\"colorscale\":[[0.0,\"#0d0887\"],[0.1111111111111111,\"#46039f\"],[0.2222222222222222,\"#7201a8\"],[0.3333333333333333,\"#9c179e\"],[0.4444444444444444,\"#bd3786\"],[0.5555555555555556,\"#d8576b\"],[0.6666666666666666,\"#ed7953\"],[0.7777777777777778,\"#fb9f3a\"],[0.8888888888888888,\"#fdca26\"],[1.0,\"#f0f921\"]]}],\"contourcarpet\":[{\"type\":\"contourcarpet\",\"colorbar\":{\"outlinewidth\":0,\"ticks\":\"\"}}],\"contour\":[{\"type\":\"contour\",\"colorbar\":{\"outlinewidth\":0,\"ticks\":\"\"},\"colorscale\":[[0.0,\"#0d0887\"],[0.1111111111111111,\"#46039f\"],[0.2222222222222222,\"#7201a8\"],[0.3333333333333333,\"#9c179e\"],[0.4444444444444444,\"#bd3786\"],[0.5555555555555556,\"#d8576b\"],[0.6666666666666666,\"#ed7953\"],[0.7777777777777778,\"#fb9f3a\"],[0.8888888888888888,\"#fdca26\"],[1.0,\"#f0f921\"]]}],\"surface\":[{\"type\":\"surface\",\"colorbar\":{\"outlinewidth\":0,\"ticks\":\"\"},\"colorscale\":[[0.0,\"#0d0887\"],[0.1111111111111111,\"#46039f\"],[0.2222222222222222,\"#7201a8\"],[0.3333333333333333,\"#9c179e\"],[0.4444444444444444,\"#bd3786\"],[0.5555555555555556,\"#d8576b\"],[0.6666666666666666,\"#ed7953\"],[0.7777777777777778,\"#fb9f3a\"],[0.8888888888888888,\"#fdca26\"],[1.0,\"#f0f921\"]]}],\"mesh3d\":[{\"type\":\"mesh3d\",\"colorbar\":{\"outlinewidth\":0,\"ticks\":\"\"}}],\"scatter\":[{\"fillpattern\":{\"fillmode\":\"overlay\",\"size\":10,\"solidity\":0.2},\"type\":\"scatter\"}],\"parcoords\":[{\"type\":\"parcoords\",\"line\":{\"colorbar\":{\"outlinewidth\":0,\"ticks\":\"\"}}}],\"scatterpolargl\":[{\"type\":\"scatterpolargl\",\"marker\":{\"colorbar\":{\"outlinewidth\":0,\"ticks\":\"\"}}}],\"bar\":[{\"error_x\":{\"color\":\"#2a3f5f\"},\"error_y\":{\"color\":\"#2a3f5f\"},\"marker\":{\"line\":{\"color\":\"#E5ECF6\",\"width\":0.5},\"pattern\":{\"fillmode\":\"overlay\",\"size\":10,\"solidity\":0.2}},\"type\":\"bar\"}],\"scattergeo\":[{\"type\":\"scattergeo\",\"marker\":{\"colorbar\":{\"outlinewidth\":0,\"ticks\":\"\"}}}],\"scatterpolar\":[{\"type\":\"scatterpolar\",\"marker\":{\"colorbar\":{\"outlinewidth\":0,\"ticks\":\"\"}}}],\"histogram\":[{\"marker\":{\"pattern\":{\"fillmode\":\"overlay\",\"size\":10,\"solidity\":0.2}},\"type\":\"histogram\"}],\"scattergl\":[{\"type\":\"scattergl\",\"marker\":{\"colorbar\":{\"outlinewidth\":0,\"ticks\":\"\"}}}],\"scatter3d\":[{\"type\":\"scatter3d\",\"line\":{\"colorbar\":{\"outlinewidth\":0,\"ticks\":\"\"}},\"marker\":{\"colorbar\":{\"outlinewidth\":0,\"ticks\":\"\"}}}],\"scattermapbox\":[{\"type\":\"scattermapbox\",\"marker\":{\"colorbar\":{\"outlinewidth\":0,\"ticks\":\"\"}}}],\"scatterternary\":[{\"type\":\"scatterternary\",\"marker\":{\"colorbar\":{\"outlinewidth\":0,\"ticks\":\"\"}}}],\"scattercarpet\":[{\"type\":\"scattercarpet\",\"marker\":{\"colorbar\":{\"outlinewidth\":0,\"ticks\":\"\"}}}],\"carpet\":[{\"aaxis\":{\"endlinecolor\":\"#2a3f5f\",\"gridcolor\":\"white\",\"linecolor\":\"white\",\"minorgridcolor\":\"white\",\"startlinecolor\":\"#2a3f5f\"},\"baxis\":{\"endlinecolor\":\"#2a3f5f\",\"gridcolor\":\"white\",\"linecolor\":\"white\",\"minorgridcolor\":\"white\",\"startlinecolor\":\"#2a3f5f\"},\"type\":\"carpet\"}],\"table\":[{\"cells\":{\"fill\":{\"color\":\"#EBF0F8\"},\"line\":{\"color\":\"white\"}},\"header\":{\"fill\":{\"color\":\"#C8D4E3\"},\"line\":{\"color\":\"white\"}},\"type\":\"table\"}],\"barpolar\":[{\"marker\":{\"line\":{\"color\":\"#E5ECF6\",\"width\":0.5},\"pattern\":{\"fillmode\":\"overlay\",\"size\":10,\"solidity\":0.2}},\"type\":\"barpolar\"}],\"pie\":[{\"automargin\":true,\"type\":\"pie\"}]},\"layout\":{\"autotypenumbers\":\"strict\",\"colorway\":[\"#636efa\",\"#EF553B\",\"#00cc96\",\"#ab63fa\",\"#FFA15A\",\"#19d3f3\",\"#FF6692\",\"#B6E880\",\"#FF97FF\",\"#FECB52\"],\"font\":{\"color\":\"#2a3f5f\"},\"hovermode\":\"closest\",\"hoverlabel\":{\"align\":\"left\"},\"paper_bgcolor\":\"white\",\"plot_bgcolor\":\"#E5ECF6\",\"polar\":{\"bgcolor\":\"#E5ECF6\",\"angularaxis\":{\"gridcolor\":\"white\",\"linecolor\":\"white\",\"ticks\":\"\"},\"radialaxis\":{\"gridcolor\":\"white\",\"linecolor\":\"white\",\"ticks\":\"\"}},\"ternary\":{\"bgcolor\":\"#E5ECF6\",\"aaxis\":{\"gridcolor\":\"white\",\"linecolor\":\"white\",\"ticks\":\"\"},\"baxis\":{\"gridcolor\":\"white\",\"linecolor\":\"white\",\"ticks\":\"\"},\"caxis\":{\"gridcolor\":\"white\",\"linecolor\":\"white\",\"ticks\":\"\"}},\"coloraxis\":{\"colorbar\":{\"outlinewidth\":0,\"ticks\":\"\"}},\"colorscale\":{\"sequential\":[[0.0,\"#0d0887\"],[0.1111111111111111,\"#46039f\"],[0.2222222222222222,\"#7201a8\"],[0.3333333333333333,\"#9c179e\"],[0.4444444444444444,\"#bd3786\"],[0.5555555555555556,\"#d8576b\"],[0.6666666666666666,\"#ed7953\"],[0.7777777777777778,\"#fb9f3a\"],[0.8888888888888888,\"#fdca26\"],[1.0,\"#f0f921\"]],\"sequentialminus\":[[0.0,\"#0d0887\"],[0.1111111111111111,\"#46039f\"],[0.2222222222222222,\"#7201a8\"],[0.3333333333333333,\"#9c179e\"],[0.4444444444444444,\"#bd3786\"],[0.5555555555555556,\"#d8576b\"],[0.6666666666666666,\"#ed7953\"],[0.7777777777777778,\"#fb9f3a\"],[0.8888888888888888,\"#fdca26\"],[1.0,\"#f0f921\"]],\"diverging\":[[0,\"#8e0152\"],[0.1,\"#c51b7d\"],[0.2,\"#de77ae\"],[0.3,\"#f1b6da\"],[0.4,\"#fde0ef\"],[0.5,\"#f7f7f7\"],[0.6,\"#e6f5d0\"],[0.7,\"#b8e186\"],[0.8,\"#7fbc41\"],[0.9,\"#4d9221\"],[1,\"#276419\"]]},\"xaxis\":{\"gridcolor\":\"white\",\"linecolor\":\"white\",\"ticks\":\"\",\"title\":{\"standoff\":15},\"zerolinecolor\":\"white\",\"automargin\":true,\"zerolinewidth\":2},\"yaxis\":{\"gridcolor\":\"white\",\"linecolor\":\"white\",\"ticks\":\"\",\"title\":{\"standoff\":15},\"zerolinecolor\":\"white\",\"automargin\":true,\"zerolinewidth\":2},\"scene\":{\"xaxis\":{\"backgroundcolor\":\"#E5ECF6\",\"gridcolor\":\"white\",\"linecolor\":\"white\",\"showbackground\":true,\"ticks\":\"\",\"zerolinecolor\":\"white\",\"gridwidth\":2},\"yaxis\":{\"backgroundcolor\":\"#E5ECF6\",\"gridcolor\":\"white\",\"linecolor\":\"white\",\"showbackground\":true,\"ticks\":\"\",\"zerolinecolor\":\"white\",\"gridwidth\":2},\"zaxis\":{\"backgroundcolor\":\"#E5ECF6\",\"gridcolor\":\"white\",\"linecolor\":\"white\",\"showbackground\":true,\"ticks\":\"\",\"zerolinecolor\":\"white\",\"gridwidth\":2}},\"shapedefaults\":{\"line\":{\"color\":\"#2a3f5f\"}},\"annotationdefaults\":{\"arrowcolor\":\"#2a3f5f\",\"arrowhead\":0,\"arrowwidth\":1},\"geo\":{\"bgcolor\":\"white\",\"landcolor\":\"#E5ECF6\",\"subunitcolor\":\"white\",\"showland\":true,\"showlakes\":true,\"lakecolor\":\"white\"},\"title\":{\"x\":0.05},\"mapbox\":{\"style\":\"light\"}}},\"xaxis\":{\"anchor\":\"y\",\"domain\":[0.0,1.0],\"title\":{\"text\":\"Fecha\"},\"tickangle\":-45,\"dtick\":\"M1\",\"range\":[\"2023-01-01T00:00:00\",\"2025-05-31T00:00:00\"]},\"yaxis\":{\"anchor\":\"x\",\"domain\":[0.0,1.0],\"title\":{\"text\":\"AMOUNT de Ventas\"}},\"legend\":{\"tracegroupgap\":0},\"title\":{\"text\":\"Tendencia, Ventas y Estacionalidad en Pepsi Max (L3)\"},\"showlegend\":true},                        {\"responsive\": true}                    ).then(function(){\n",
              "                            \n",
              "var gd = document.getElementById('4762faa8-d2ed-406f-ae3f-4e7b0f18164c');\n",
              "var x = new MutationObserver(function (mutations, observer) {{\n",
              "        var display = window.getComputedStyle(gd).display;\n",
              "        if (!display || display === 'none') {{\n",
              "            console.log([gd, 'removed!']);\n",
              "            Plotly.purge(gd);\n",
              "            observer.disconnect();\n",
              "        }}\n",
              "}});\n",
              "\n",
              "// Listen for the removal of the full notebook cells\n",
              "var notebookContainer = gd.closest('#notebook-container');\n",
              "if (notebookContainer) {{\n",
              "    x.observe(notebookContainer, {childList: true});\n",
              "}}\n",
              "\n",
              "// Listen for the clearing of the current output cell\n",
              "var outputEl = gd.closest('.output');\n",
              "if (outputEl) {{\n",
              "    x.observe(outputEl, {childList: true});\n",
              "}}\n",
              "\n",
              "                        })                };                            </script>        </div>\n",
              "</body>\n",
              "</html>"
            ]
          },
          "metadata": {}
        }
      ]
    },
    {
      "cell_type": "markdown",
      "source": [
        "Del mismo modo que en las ventas en España, las ventas de Pepsi Max presentan una tendencia ascendente en el primer año y descendente en el resto del tiempo, por tanto conluimmos que tiene una tendencia nula. Por otro lado, presenta estacionalidad a lo largo del tiempo, con un patrón de repetición anual."
      ],
      "metadata": {
        "id": "VRepBhbGj0rZ"
      }
    },
    {
      "cell_type": "markdown",
      "source": [
        "3. Cuales son las predicciones hechas en España y como de buenas son."
      ],
      "metadata": {
        "id": "R3ELdj-ODw_k"
      }
    },
    {
      "cell_type": "code",
      "source": [
        "# Filtrar para España y el periodo de enero de 2023 a agosto de 2024\n",
        "data_spain = data[(data['COUNTRY'] == 'Spain') &\n",
        "                  ((data['YEAR'] == 2023) | (data['YEAR'] == 2024)) &\n",
        "                  (data['MONTH'] <= 8 if data['YEAR'].max() == 2024 else True)]\n",
        "\n",
        "# Separar valores reales\n",
        "data_actual = data_spain[data_spain['SCENARIO'] == 'actual']\n",
        "\n",
        "# Predicciones a analizar\n",
        "forecast_types = ['AI_P02F', 'AI_P03F']\n",
        "\n",
        "for forecast_type in forecast_types:\n",
        "    # Filtramos\n",
        "    data_forecast = data_spain[(data_spain['SCENARIO'] == 'AI_forecast') & (data_spain['FORECAST'] == forecast_type)]\n",
        "\n",
        "    # Agrupamos por YEAR y MONTH para obtener el total de AMOUNT mensual\n",
        "    actual_monthly = data_actual.groupby(['YEAR', 'MONTH'])['AMOUNT'].sum().reset_index()\n",
        "    forecast_monthly = data_forecast.groupby(['YEAR', 'MONTH'])['AMOUNT'].sum().reset_index()\n",
        "\n",
        "    # Fusionamos ambas tablas en una sola para graficar la comparación y añadimos sufijos para métricas\n",
        "    monthly_data = actual_monthly.merge(forecast_monthly, on=['YEAR', 'MONTH'], how='left', suffixes=('_actual', '_forecast'))\n",
        "\n",
        "    # Creamos columna de fecha para el gráfico\n",
        "    monthly_data['DATE'] = pd.to_datetime(monthly_data[['YEAR', 'MONTH']].assign(DAY=1))\n",
        "\n",
        "    # Métricas de error (Error Absoluto Medio - MAE)\n",
        "    monthly_data['MAE'] = abs(monthly_data['AMOUNT_actual'] - monthly_data['AMOUNT_forecast'])\n",
        "    mean_mae = monthly_data['MAE'].mean()\n",
        "\n",
        "     # Definimos rango de tiempo específico para cada forecast_type\n",
        "    if forecast_type == 'AI_P02F':\n",
        "        time_range = [pd.Timestamp(\"2023-02-01\"), pd.Timestamp(\"2024-07-31\")]\n",
        "    else:\n",
        "        time_range = [pd.Timestamp(\"2023-03-01\"), pd.Timestamp(\"2024-08-31\")]\n",
        "\n",
        "    fig = go.Figure()\n",
        "\n",
        "    # Línea para valores reales\n",
        "    fig.add_trace(go.Scatter(\n",
        "        x=monthly_data['DATE'], y=monthly_data['AMOUNT_actual'],\n",
        "        mode='lines+markers', name='Valores Reales',\n",
        "        line=dict(color='blue')\n",
        "    ))\n",
        "\n",
        "    # Línea para predicciones\n",
        "    fig.add_trace(go.Scatter(\n",
        "        x=monthly_data['DATE'], y=monthly_data['AMOUNT_forecast'],\n",
        "        mode='lines+markers', name=f'Predicciones ({forecast_type})',\n",
        "        line=dict(color='orange', dash='dash')\n",
        "    ))\n",
        "\n",
        "    # Gráfico de barras para el MAE mensual\n",
        "    fig.add_trace(go.Bar(\n",
        "        x=monthly_data['DATE'], y=monthly_data['MAE'],\n",
        "        name='Error Absoluto Medio (MAE)',\n",
        "        yaxis='y2', opacity=0.5, marker=dict(color='red')\n",
        "    ))\n",
        "\n",
        "    # Configuramos el diseño del gráfico\n",
        "    fig.update_layout(\n",
        "        title=f\"Comparación de Predicciones ({forecast_type}) y Valores Reales en España (2023-08/2024)\",\n",
        "        xaxis=dict(\n",
        "            title=\"Fecha\",\n",
        "            tickangle=-45,\n",
        "            dtick=\"M1\",\n",
        "            range=time_range  ),\n",
        "        yaxis=dict(title=\"AMOUNT\"),\n",
        "        yaxis2=dict(title=\"Error Absoluto Medio (MAE)\", overlaying='y', side='right', matches=\"y\"),\n",
        "        legend=dict(x=0.6, y=1)\n",
        "    )\n",
        "\n",
        "    fig.show()"
      ],
      "metadata": {
        "colab": {
          "base_uri": "https://localhost:8080/",
          "height": 1000
        },
        "id": "S2860Ch10n3K",
        "outputId": "f9c85269-7ff1-426a-fb5b-9000dcabf3e2"
      },
      "execution_count": null,
      "outputs": [
        {
          "output_type": "display_data",
          "data": {
            "text/html": [
              "<html>\n",
              "<head><meta charset=\"utf-8\" /></head>\n",
              "<body>\n",
              "    <div>            <script src=\"https://cdnjs.cloudflare.com/ajax/libs/mathjax/2.7.5/MathJax.js?config=TeX-AMS-MML_SVG\"></script><script type=\"text/javascript\">if (window.MathJax && window.MathJax.Hub && window.MathJax.Hub.Config) {window.MathJax.Hub.Config({SVG: {font: \"STIX-Web\"}});}</script>                <script type=\"text/javascript\">window.PlotlyConfig = {MathJaxConfig: 'local'};</script>\n",
              "        <script charset=\"utf-8\" src=\"https://cdn.plot.ly/plotly-2.35.2.min.js\"></script>                <div id=\"7b2d53cb-4ba1-4d57-bf89-dcaf562129e6\" class=\"plotly-graph-div\" style=\"height:525px; width:100%;\"></div>            <script type=\"text/javascript\">                                    window.PLOTLYENV=window.PLOTLYENV || {};                                    if (document.getElementById(\"7b2d53cb-4ba1-4d57-bf89-dcaf562129e6\")) {                    Plotly.newPlot(                        \"7b2d53cb-4ba1-4d57-bf89-dcaf562129e6\",                        [{\"line\":{\"color\":\"blue\"},\"mode\":\"lines+markers\",\"name\":\"Valores Reales\",\"x\":[\"2023-01-01T00:00:00\",\"2023-02-01T00:00:00\",\"2023-03-01T00:00:00\",\"2023-04-01T00:00:00\",\"2023-05-01T00:00:00\",\"2023-06-01T00:00:00\",\"2023-07-01T00:00:00\",\"2023-08-01T00:00:00\",\"2023-09-01T00:00:00\",\"2023-10-01T00:00:00\",\"2023-11-01T00:00:00\",\"2023-12-01T00:00:00\",\"2024-01-01T00:00:00\",\"2024-02-01T00:00:00\",\"2024-03-01T00:00:00\",\"2024-04-01T00:00:00\",\"2024-05-01T00:00:00\",\"2024-06-01T00:00:00\",\"2024-07-01T00:00:00\",\"2024-08-01T00:00:00\"],\"y\":[325272.9389304911,295588.379604517,399710.27310997306,328035.2578740851,360751.156280142,439198.58628968743,496545.2361195783,564336.120819692,420041.9805910407,468425.84176011605,418006.199049298,394147.40859018476,349696.53314179694,352899.0356524695,332109.2562326968,376678.36889674753,356759.011785592,408967.746366754,506234.36278204597,537862.283643176],\"type\":\"scatter\"},{\"line\":{\"color\":\"orange\",\"dash\":\"dash\"},\"mode\":\"lines+markers\",\"name\":\"Predicciones (AI_P02F)\",\"x\":[\"2023-01-01T00:00:00\",\"2023-02-01T00:00:00\",\"2023-03-01T00:00:00\",\"2023-04-01T00:00:00\",\"2023-05-01T00:00:00\",\"2023-06-01T00:00:00\",\"2023-07-01T00:00:00\",\"2023-08-01T00:00:00\",\"2023-09-01T00:00:00\",\"2023-10-01T00:00:00\",\"2023-11-01T00:00:00\",\"2023-12-01T00:00:00\",\"2024-01-01T00:00:00\",\"2024-02-01T00:00:00\",\"2024-03-01T00:00:00\",\"2024-04-01T00:00:00\",\"2024-05-01T00:00:00\",\"2024-06-01T00:00:00\",\"2024-07-01T00:00:00\",\"2024-08-01T00:00:00\"],\"y\":[null,308203.54758758284,323576.19337326416,301969.8234831256,272348.45077295083,354247.59184185765,451402.64948238607,463791.5267135983,375454.12497678486,390583.9405333603,344472.809329385,373332.7438356908,292159.562865641,264956.8956137717,312353.7224717349,297188.62736696395,298336.8206999268,367926.9278700205,455096.8761709017,null],\"type\":\"scatter\"},{\"marker\":{\"color\":\"red\"},\"name\":\"Error Absoluto Medio (MAE)\",\"opacity\":0.5,\"x\":[\"2023-01-01T00:00:00\",\"2023-02-01T00:00:00\",\"2023-03-01T00:00:00\",\"2023-04-01T00:00:00\",\"2023-05-01T00:00:00\",\"2023-06-01T00:00:00\",\"2023-07-01T00:00:00\",\"2023-08-01T00:00:00\",\"2023-09-01T00:00:00\",\"2023-10-01T00:00:00\",\"2023-11-01T00:00:00\",\"2023-12-01T00:00:00\",\"2024-01-01T00:00:00\",\"2024-02-01T00:00:00\",\"2024-03-01T00:00:00\",\"2024-04-01T00:00:00\",\"2024-05-01T00:00:00\",\"2024-06-01T00:00:00\",\"2024-07-01T00:00:00\",\"2024-08-01T00:00:00\"],\"y\":[null,12615.167983065825,76134.0797367089,26065.434390959505,88402.70550719119,84950.99444782978,45142.58663719223,100544.59410609375,44587.85561425582,77841.90122675576,73533.38971991302,20814.664754493977,57536.97027615592,87942.1400386978,19755.533760961902,79489.74152978358,58422.191085665196,41040.8184967335,51137.48661114427,null],\"yaxis\":\"y2\",\"type\":\"bar\"}],                        {\"template\":{\"data\":{\"histogram2dcontour\":[{\"type\":\"histogram2dcontour\",\"colorbar\":{\"outlinewidth\":0,\"ticks\":\"\"},\"colorscale\":[[0.0,\"#0d0887\"],[0.1111111111111111,\"#46039f\"],[0.2222222222222222,\"#7201a8\"],[0.3333333333333333,\"#9c179e\"],[0.4444444444444444,\"#bd3786\"],[0.5555555555555556,\"#d8576b\"],[0.6666666666666666,\"#ed7953\"],[0.7777777777777778,\"#fb9f3a\"],[0.8888888888888888,\"#fdca26\"],[1.0,\"#f0f921\"]]}],\"choropleth\":[{\"type\":\"choropleth\",\"colorbar\":{\"outlinewidth\":0,\"ticks\":\"\"}}],\"histogram2d\":[{\"type\":\"histogram2d\",\"colorbar\":{\"outlinewidth\":0,\"ticks\":\"\"},\"colorscale\":[[0.0,\"#0d0887\"],[0.1111111111111111,\"#46039f\"],[0.2222222222222222,\"#7201a8\"],[0.3333333333333333,\"#9c179e\"],[0.4444444444444444,\"#bd3786\"],[0.5555555555555556,\"#d8576b\"],[0.6666666666666666,\"#ed7953\"],[0.7777777777777778,\"#fb9f3a\"],[0.8888888888888888,\"#fdca26\"],[1.0,\"#f0f921\"]]}],\"heatmap\":[{\"type\":\"heatmap\",\"colorbar\":{\"outlinewidth\":0,\"ticks\":\"\"},\"colorscale\":[[0.0,\"#0d0887\"],[0.1111111111111111,\"#46039f\"],[0.2222222222222222,\"#7201a8\"],[0.3333333333333333,\"#9c179e\"],[0.4444444444444444,\"#bd3786\"],[0.5555555555555556,\"#d8576b\"],[0.6666666666666666,\"#ed7953\"],[0.7777777777777778,\"#fb9f3a\"],[0.8888888888888888,\"#fdca26\"],[1.0,\"#f0f921\"]]}],\"heatmapgl\":[{\"type\":\"heatmapgl\",\"colorbar\":{\"outlinewidth\":0,\"ticks\":\"\"},\"colorscale\":[[0.0,\"#0d0887\"],[0.1111111111111111,\"#46039f\"],[0.2222222222222222,\"#7201a8\"],[0.3333333333333333,\"#9c179e\"],[0.4444444444444444,\"#bd3786\"],[0.5555555555555556,\"#d8576b\"],[0.6666666666666666,\"#ed7953\"],[0.7777777777777778,\"#fb9f3a\"],[0.8888888888888888,\"#fdca26\"],[1.0,\"#f0f921\"]]}],\"contourcarpet\":[{\"type\":\"contourcarpet\",\"colorbar\":{\"outlinewidth\":0,\"ticks\":\"\"}}],\"contour\":[{\"type\":\"contour\",\"colorbar\":{\"outlinewidth\":0,\"ticks\":\"\"},\"colorscale\":[[0.0,\"#0d0887\"],[0.1111111111111111,\"#46039f\"],[0.2222222222222222,\"#7201a8\"],[0.3333333333333333,\"#9c179e\"],[0.4444444444444444,\"#bd3786\"],[0.5555555555555556,\"#d8576b\"],[0.6666666666666666,\"#ed7953\"],[0.7777777777777778,\"#fb9f3a\"],[0.8888888888888888,\"#fdca26\"],[1.0,\"#f0f921\"]]}],\"surface\":[{\"type\":\"surface\",\"colorbar\":{\"outlinewidth\":0,\"ticks\":\"\"},\"colorscale\":[[0.0,\"#0d0887\"],[0.1111111111111111,\"#46039f\"],[0.2222222222222222,\"#7201a8\"],[0.3333333333333333,\"#9c179e\"],[0.4444444444444444,\"#bd3786\"],[0.5555555555555556,\"#d8576b\"],[0.6666666666666666,\"#ed7953\"],[0.7777777777777778,\"#fb9f3a\"],[0.8888888888888888,\"#fdca26\"],[1.0,\"#f0f921\"]]}],\"mesh3d\":[{\"type\":\"mesh3d\",\"colorbar\":{\"outlinewidth\":0,\"ticks\":\"\"}}],\"scatter\":[{\"fillpattern\":{\"fillmode\":\"overlay\",\"size\":10,\"solidity\":0.2},\"type\":\"scatter\"}],\"parcoords\":[{\"type\":\"parcoords\",\"line\":{\"colorbar\":{\"outlinewidth\":0,\"ticks\":\"\"}}}],\"scatterpolargl\":[{\"type\":\"scatterpolargl\",\"marker\":{\"colorbar\":{\"outlinewidth\":0,\"ticks\":\"\"}}}],\"bar\":[{\"error_x\":{\"color\":\"#2a3f5f\"},\"error_y\":{\"color\":\"#2a3f5f\"},\"marker\":{\"line\":{\"color\":\"#E5ECF6\",\"width\":0.5},\"pattern\":{\"fillmode\":\"overlay\",\"size\":10,\"solidity\":0.2}},\"type\":\"bar\"}],\"scattergeo\":[{\"type\":\"scattergeo\",\"marker\":{\"colorbar\":{\"outlinewidth\":0,\"ticks\":\"\"}}}],\"scatterpolar\":[{\"type\":\"scatterpolar\",\"marker\":{\"colorbar\":{\"outlinewidth\":0,\"ticks\":\"\"}}}],\"histogram\":[{\"marker\":{\"pattern\":{\"fillmode\":\"overlay\",\"size\":10,\"solidity\":0.2}},\"type\":\"histogram\"}],\"scattergl\":[{\"type\":\"scattergl\",\"marker\":{\"colorbar\":{\"outlinewidth\":0,\"ticks\":\"\"}}}],\"scatter3d\":[{\"type\":\"scatter3d\",\"line\":{\"colorbar\":{\"outlinewidth\":0,\"ticks\":\"\"}},\"marker\":{\"colorbar\":{\"outlinewidth\":0,\"ticks\":\"\"}}}],\"scattermapbox\":[{\"type\":\"scattermapbox\",\"marker\":{\"colorbar\":{\"outlinewidth\":0,\"ticks\":\"\"}}}],\"scatterternary\":[{\"type\":\"scatterternary\",\"marker\":{\"colorbar\":{\"outlinewidth\":0,\"ticks\":\"\"}}}],\"scattercarpet\":[{\"type\":\"scattercarpet\",\"marker\":{\"colorbar\":{\"outlinewidth\":0,\"ticks\":\"\"}}}],\"carpet\":[{\"aaxis\":{\"endlinecolor\":\"#2a3f5f\",\"gridcolor\":\"white\",\"linecolor\":\"white\",\"minorgridcolor\":\"white\",\"startlinecolor\":\"#2a3f5f\"},\"baxis\":{\"endlinecolor\":\"#2a3f5f\",\"gridcolor\":\"white\",\"linecolor\":\"white\",\"minorgridcolor\":\"white\",\"startlinecolor\":\"#2a3f5f\"},\"type\":\"carpet\"}],\"table\":[{\"cells\":{\"fill\":{\"color\":\"#EBF0F8\"},\"line\":{\"color\":\"white\"}},\"header\":{\"fill\":{\"color\":\"#C8D4E3\"},\"line\":{\"color\":\"white\"}},\"type\":\"table\"}],\"barpolar\":[{\"marker\":{\"line\":{\"color\":\"#E5ECF6\",\"width\":0.5},\"pattern\":{\"fillmode\":\"overlay\",\"size\":10,\"solidity\":0.2}},\"type\":\"barpolar\"}],\"pie\":[{\"automargin\":true,\"type\":\"pie\"}]},\"layout\":{\"autotypenumbers\":\"strict\",\"colorway\":[\"#636efa\",\"#EF553B\",\"#00cc96\",\"#ab63fa\",\"#FFA15A\",\"#19d3f3\",\"#FF6692\",\"#B6E880\",\"#FF97FF\",\"#FECB52\"],\"font\":{\"color\":\"#2a3f5f\"},\"hovermode\":\"closest\",\"hoverlabel\":{\"align\":\"left\"},\"paper_bgcolor\":\"white\",\"plot_bgcolor\":\"#E5ECF6\",\"polar\":{\"bgcolor\":\"#E5ECF6\",\"angularaxis\":{\"gridcolor\":\"white\",\"linecolor\":\"white\",\"ticks\":\"\"},\"radialaxis\":{\"gridcolor\":\"white\",\"linecolor\":\"white\",\"ticks\":\"\"}},\"ternary\":{\"bgcolor\":\"#E5ECF6\",\"aaxis\":{\"gridcolor\":\"white\",\"linecolor\":\"white\",\"ticks\":\"\"},\"baxis\":{\"gridcolor\":\"white\",\"linecolor\":\"white\",\"ticks\":\"\"},\"caxis\":{\"gridcolor\":\"white\",\"linecolor\":\"white\",\"ticks\":\"\"}},\"coloraxis\":{\"colorbar\":{\"outlinewidth\":0,\"ticks\":\"\"}},\"colorscale\":{\"sequential\":[[0.0,\"#0d0887\"],[0.1111111111111111,\"#46039f\"],[0.2222222222222222,\"#7201a8\"],[0.3333333333333333,\"#9c179e\"],[0.4444444444444444,\"#bd3786\"],[0.5555555555555556,\"#d8576b\"],[0.6666666666666666,\"#ed7953\"],[0.7777777777777778,\"#fb9f3a\"],[0.8888888888888888,\"#fdca26\"],[1.0,\"#f0f921\"]],\"sequentialminus\":[[0.0,\"#0d0887\"],[0.1111111111111111,\"#46039f\"],[0.2222222222222222,\"#7201a8\"],[0.3333333333333333,\"#9c179e\"],[0.4444444444444444,\"#bd3786\"],[0.5555555555555556,\"#d8576b\"],[0.6666666666666666,\"#ed7953\"],[0.7777777777777778,\"#fb9f3a\"],[0.8888888888888888,\"#fdca26\"],[1.0,\"#f0f921\"]],\"diverging\":[[0,\"#8e0152\"],[0.1,\"#c51b7d\"],[0.2,\"#de77ae\"],[0.3,\"#f1b6da\"],[0.4,\"#fde0ef\"],[0.5,\"#f7f7f7\"],[0.6,\"#e6f5d0\"],[0.7,\"#b8e186\"],[0.8,\"#7fbc41\"],[0.9,\"#4d9221\"],[1,\"#276419\"]]},\"xaxis\":{\"gridcolor\":\"white\",\"linecolor\":\"white\",\"ticks\":\"\",\"title\":{\"standoff\":15},\"zerolinecolor\":\"white\",\"automargin\":true,\"zerolinewidth\":2},\"yaxis\":{\"gridcolor\":\"white\",\"linecolor\":\"white\",\"ticks\":\"\",\"title\":{\"standoff\":15},\"zerolinecolor\":\"white\",\"automargin\":true,\"zerolinewidth\":2},\"scene\":{\"xaxis\":{\"backgroundcolor\":\"#E5ECF6\",\"gridcolor\":\"white\",\"linecolor\":\"white\",\"showbackground\":true,\"ticks\":\"\",\"zerolinecolor\":\"white\",\"gridwidth\":2},\"yaxis\":{\"backgroundcolor\":\"#E5ECF6\",\"gridcolor\":\"white\",\"linecolor\":\"white\",\"showbackground\":true,\"ticks\":\"\",\"zerolinecolor\":\"white\",\"gridwidth\":2},\"zaxis\":{\"backgroundcolor\":\"#E5ECF6\",\"gridcolor\":\"white\",\"linecolor\":\"white\",\"showbackground\":true,\"ticks\":\"\",\"zerolinecolor\":\"white\",\"gridwidth\":2}},\"shapedefaults\":{\"line\":{\"color\":\"#2a3f5f\"}},\"annotationdefaults\":{\"arrowcolor\":\"#2a3f5f\",\"arrowhead\":0,\"arrowwidth\":1},\"geo\":{\"bgcolor\":\"white\",\"landcolor\":\"#E5ECF6\",\"subunitcolor\":\"white\",\"showland\":true,\"showlakes\":true,\"lakecolor\":\"white\"},\"title\":{\"x\":0.05},\"mapbox\":{\"style\":\"light\"}}},\"xaxis\":{\"title\":{\"text\":\"Fecha\"},\"tickangle\":-45,\"dtick\":\"M1\",\"range\":[\"2023-02-01T00:00:00\",\"2024-07-31T00:00:00\"]},\"yaxis2\":{\"title\":{\"text\":\"Error Absoluto Medio (MAE)\"},\"overlaying\":\"y\",\"side\":\"right\",\"matches\":\"y\"},\"legend\":{\"x\":0.6,\"y\":1},\"title\":{\"text\":\"Comparación de Predicciones (AI_P02F) y Valores Reales en España (2023-08\\u002f2024)\"},\"yaxis\":{\"title\":{\"text\":\"AMOUNT\"}}},                        {\"responsive\": true}                    ).then(function(){\n",
              "                            \n",
              "var gd = document.getElementById('7b2d53cb-4ba1-4d57-bf89-dcaf562129e6');\n",
              "var x = new MutationObserver(function (mutations, observer) {{\n",
              "        var display = window.getComputedStyle(gd).display;\n",
              "        if (!display || display === 'none') {{\n",
              "            console.log([gd, 'removed!']);\n",
              "            Plotly.purge(gd);\n",
              "            observer.disconnect();\n",
              "        }}\n",
              "}});\n",
              "\n",
              "// Listen for the removal of the full notebook cells\n",
              "var notebookContainer = gd.closest('#notebook-container');\n",
              "if (notebookContainer) {{\n",
              "    x.observe(notebookContainer, {childList: true});\n",
              "}}\n",
              "\n",
              "// Listen for the clearing of the current output cell\n",
              "var outputEl = gd.closest('.output');\n",
              "if (outputEl) {{\n",
              "    x.observe(outputEl, {childList: true});\n",
              "}}\n",
              "\n",
              "                        })                };                            </script>        </div>\n",
              "</body>\n",
              "</html>"
            ]
          },
          "metadata": {}
        },
        {
          "output_type": "display_data",
          "data": {
            "text/html": [
              "<html>\n",
              "<head><meta charset=\"utf-8\" /></head>\n",
              "<body>\n",
              "    <div>            <script src=\"https://cdnjs.cloudflare.com/ajax/libs/mathjax/2.7.5/MathJax.js?config=TeX-AMS-MML_SVG\"></script><script type=\"text/javascript\">if (window.MathJax && window.MathJax.Hub && window.MathJax.Hub.Config) {window.MathJax.Hub.Config({SVG: {font: \"STIX-Web\"}});}</script>                <script type=\"text/javascript\">window.PlotlyConfig = {MathJaxConfig: 'local'};</script>\n",
              "        <script charset=\"utf-8\" src=\"https://cdn.plot.ly/plotly-2.35.2.min.js\"></script>                <div id=\"88d56a79-a663-4c76-a0ee-e0833790e6a8\" class=\"plotly-graph-div\" style=\"height:525px; width:100%;\"></div>            <script type=\"text/javascript\">                                    window.PLOTLYENV=window.PLOTLYENV || {};                                    if (document.getElementById(\"88d56a79-a663-4c76-a0ee-e0833790e6a8\")) {                    Plotly.newPlot(                        \"88d56a79-a663-4c76-a0ee-e0833790e6a8\",                        [{\"line\":{\"color\":\"blue\"},\"mode\":\"lines+markers\",\"name\":\"Valores Reales\",\"x\":[\"2023-01-01T00:00:00\",\"2023-02-01T00:00:00\",\"2023-03-01T00:00:00\",\"2023-04-01T00:00:00\",\"2023-05-01T00:00:00\",\"2023-06-01T00:00:00\",\"2023-07-01T00:00:00\",\"2023-08-01T00:00:00\",\"2023-09-01T00:00:00\",\"2023-10-01T00:00:00\",\"2023-11-01T00:00:00\",\"2023-12-01T00:00:00\",\"2024-01-01T00:00:00\",\"2024-02-01T00:00:00\",\"2024-03-01T00:00:00\",\"2024-04-01T00:00:00\",\"2024-05-01T00:00:00\",\"2024-06-01T00:00:00\",\"2024-07-01T00:00:00\",\"2024-08-01T00:00:00\"],\"y\":[325272.9389304911,295588.379604517,399710.27310997306,328035.2578740851,360751.156280142,439198.58628968743,496545.2361195783,564336.120819692,420041.9805910407,468425.84176011605,418006.199049298,394147.40859018476,349696.53314179694,352899.0356524695,332109.2562326968,376678.36889674753,356759.011785592,408967.746366754,506234.36278204597,537862.283643176],\"type\":\"scatter\"},{\"line\":{\"color\":\"orange\",\"dash\":\"dash\"},\"mode\":\"lines+markers\",\"name\":\"Predicciones (AI_P03F)\",\"x\":[\"2023-01-01T00:00:00\",\"2023-02-01T00:00:00\",\"2023-03-01T00:00:00\",\"2023-04-01T00:00:00\",\"2023-05-01T00:00:00\",\"2023-06-01T00:00:00\",\"2023-07-01T00:00:00\",\"2023-08-01T00:00:00\",\"2023-09-01T00:00:00\",\"2023-10-01T00:00:00\",\"2023-11-01T00:00:00\",\"2023-12-01T00:00:00\",\"2024-01-01T00:00:00\",\"2024-02-01T00:00:00\",\"2024-03-01T00:00:00\",\"2024-04-01T00:00:00\",\"2024-05-01T00:00:00\",\"2024-06-01T00:00:00\",\"2024-07-01T00:00:00\",\"2024-08-01T00:00:00\"],\"y\":[null,null,301487.1999975611,268499.83345149725,267130.7533278859,330352.52883426595,429963.11632111686,448047.4257637019,341598.3718101551,354129.1024811617,309850.7388911008,339711.4320639398,247078.27601078275,240239.99823331935,281594.63092228805,281026.7550098059,280621.014759239,332463.9665622064,414626.3440330881,444357.7514556331],\"type\":\"scatter\"},{\"marker\":{\"color\":\"red\"},\"name\":\"Error Absoluto Medio (MAE)\",\"opacity\":0.5,\"x\":[\"2023-01-01T00:00:00\",\"2023-02-01T00:00:00\",\"2023-03-01T00:00:00\",\"2023-04-01T00:00:00\",\"2023-05-01T00:00:00\",\"2023-06-01T00:00:00\",\"2023-07-01T00:00:00\",\"2023-08-01T00:00:00\",\"2023-09-01T00:00:00\",\"2023-10-01T00:00:00\",\"2023-11-01T00:00:00\",\"2023-12-01T00:00:00\",\"2024-01-01T00:00:00\",\"2024-02-01T00:00:00\",\"2024-03-01T00:00:00\",\"2024-04-01T00:00:00\",\"2024-05-01T00:00:00\",\"2024-06-01T00:00:00\",\"2024-07-01T00:00:00\",\"2024-08-01T00:00:00\"],\"y\":[null,null,98223.07311241195,59535.42442258785,93620.40295225615,108846.05745542148,66582.11979846144,116288.69505599013,78443.60878088558,114296.73927895434,108155.46015819721,54435.97652624495,102618.2571310142,112659.03741915015,50514.62531040877,95651.61388694163,76137.99702635303,76503.77980454761,91608.01874895784,93504.53218754288],\"yaxis\":\"y2\",\"type\":\"bar\"}],                        {\"template\":{\"data\":{\"histogram2dcontour\":[{\"type\":\"histogram2dcontour\",\"colorbar\":{\"outlinewidth\":0,\"ticks\":\"\"},\"colorscale\":[[0.0,\"#0d0887\"],[0.1111111111111111,\"#46039f\"],[0.2222222222222222,\"#7201a8\"],[0.3333333333333333,\"#9c179e\"],[0.4444444444444444,\"#bd3786\"],[0.5555555555555556,\"#d8576b\"],[0.6666666666666666,\"#ed7953\"],[0.7777777777777778,\"#fb9f3a\"],[0.8888888888888888,\"#fdca26\"],[1.0,\"#f0f921\"]]}],\"choropleth\":[{\"type\":\"choropleth\",\"colorbar\":{\"outlinewidth\":0,\"ticks\":\"\"}}],\"histogram2d\":[{\"type\":\"histogram2d\",\"colorbar\":{\"outlinewidth\":0,\"ticks\":\"\"},\"colorscale\":[[0.0,\"#0d0887\"],[0.1111111111111111,\"#46039f\"],[0.2222222222222222,\"#7201a8\"],[0.3333333333333333,\"#9c179e\"],[0.4444444444444444,\"#bd3786\"],[0.5555555555555556,\"#d8576b\"],[0.6666666666666666,\"#ed7953\"],[0.7777777777777778,\"#fb9f3a\"],[0.8888888888888888,\"#fdca26\"],[1.0,\"#f0f921\"]]}],\"heatmap\":[{\"type\":\"heatmap\",\"colorbar\":{\"outlinewidth\":0,\"ticks\":\"\"},\"colorscale\":[[0.0,\"#0d0887\"],[0.1111111111111111,\"#46039f\"],[0.2222222222222222,\"#7201a8\"],[0.3333333333333333,\"#9c179e\"],[0.4444444444444444,\"#bd3786\"],[0.5555555555555556,\"#d8576b\"],[0.6666666666666666,\"#ed7953\"],[0.7777777777777778,\"#fb9f3a\"],[0.8888888888888888,\"#fdca26\"],[1.0,\"#f0f921\"]]}],\"heatmapgl\":[{\"type\":\"heatmapgl\",\"colorbar\":{\"outlinewidth\":0,\"ticks\":\"\"},\"colorscale\":[[0.0,\"#0d0887\"],[0.1111111111111111,\"#46039f\"],[0.2222222222222222,\"#7201a8\"],[0.3333333333333333,\"#9c179e\"],[0.4444444444444444,\"#bd3786\"],[0.5555555555555556,\"#d8576b\"],[0.6666666666666666,\"#ed7953\"],[0.7777777777777778,\"#fb9f3a\"],[0.8888888888888888,\"#fdca26\"],[1.0,\"#f0f921\"]]}],\"contourcarpet\":[{\"type\":\"contourcarpet\",\"colorbar\":{\"outlinewidth\":0,\"ticks\":\"\"}}],\"contour\":[{\"type\":\"contour\",\"colorbar\":{\"outlinewidth\":0,\"ticks\":\"\"},\"colorscale\":[[0.0,\"#0d0887\"],[0.1111111111111111,\"#46039f\"],[0.2222222222222222,\"#7201a8\"],[0.3333333333333333,\"#9c179e\"],[0.4444444444444444,\"#bd3786\"],[0.5555555555555556,\"#d8576b\"],[0.6666666666666666,\"#ed7953\"],[0.7777777777777778,\"#fb9f3a\"],[0.8888888888888888,\"#fdca26\"],[1.0,\"#f0f921\"]]}],\"surface\":[{\"type\":\"surface\",\"colorbar\":{\"outlinewidth\":0,\"ticks\":\"\"},\"colorscale\":[[0.0,\"#0d0887\"],[0.1111111111111111,\"#46039f\"],[0.2222222222222222,\"#7201a8\"],[0.3333333333333333,\"#9c179e\"],[0.4444444444444444,\"#bd3786\"],[0.5555555555555556,\"#d8576b\"],[0.6666666666666666,\"#ed7953\"],[0.7777777777777778,\"#fb9f3a\"],[0.8888888888888888,\"#fdca26\"],[1.0,\"#f0f921\"]]}],\"mesh3d\":[{\"type\":\"mesh3d\",\"colorbar\":{\"outlinewidth\":0,\"ticks\":\"\"}}],\"scatter\":[{\"fillpattern\":{\"fillmode\":\"overlay\",\"size\":10,\"solidity\":0.2},\"type\":\"scatter\"}],\"parcoords\":[{\"type\":\"parcoords\",\"line\":{\"colorbar\":{\"outlinewidth\":0,\"ticks\":\"\"}}}],\"scatterpolargl\":[{\"type\":\"scatterpolargl\",\"marker\":{\"colorbar\":{\"outlinewidth\":0,\"ticks\":\"\"}}}],\"bar\":[{\"error_x\":{\"color\":\"#2a3f5f\"},\"error_y\":{\"color\":\"#2a3f5f\"},\"marker\":{\"line\":{\"color\":\"#E5ECF6\",\"width\":0.5},\"pattern\":{\"fillmode\":\"overlay\",\"size\":10,\"solidity\":0.2}},\"type\":\"bar\"}],\"scattergeo\":[{\"type\":\"scattergeo\",\"marker\":{\"colorbar\":{\"outlinewidth\":0,\"ticks\":\"\"}}}],\"scatterpolar\":[{\"type\":\"scatterpolar\",\"marker\":{\"colorbar\":{\"outlinewidth\":0,\"ticks\":\"\"}}}],\"histogram\":[{\"marker\":{\"pattern\":{\"fillmode\":\"overlay\",\"size\":10,\"solidity\":0.2}},\"type\":\"histogram\"}],\"scattergl\":[{\"type\":\"scattergl\",\"marker\":{\"colorbar\":{\"outlinewidth\":0,\"ticks\":\"\"}}}],\"scatter3d\":[{\"type\":\"scatter3d\",\"line\":{\"colorbar\":{\"outlinewidth\":0,\"ticks\":\"\"}},\"marker\":{\"colorbar\":{\"outlinewidth\":0,\"ticks\":\"\"}}}],\"scattermapbox\":[{\"type\":\"scattermapbox\",\"marker\":{\"colorbar\":{\"outlinewidth\":0,\"ticks\":\"\"}}}],\"scatterternary\":[{\"type\":\"scatterternary\",\"marker\":{\"colorbar\":{\"outlinewidth\":0,\"ticks\":\"\"}}}],\"scattercarpet\":[{\"type\":\"scattercarpet\",\"marker\":{\"colorbar\":{\"outlinewidth\":0,\"ticks\":\"\"}}}],\"carpet\":[{\"aaxis\":{\"endlinecolor\":\"#2a3f5f\",\"gridcolor\":\"white\",\"linecolor\":\"white\",\"minorgridcolor\":\"white\",\"startlinecolor\":\"#2a3f5f\"},\"baxis\":{\"endlinecolor\":\"#2a3f5f\",\"gridcolor\":\"white\",\"linecolor\":\"white\",\"minorgridcolor\":\"white\",\"startlinecolor\":\"#2a3f5f\"},\"type\":\"carpet\"}],\"table\":[{\"cells\":{\"fill\":{\"color\":\"#EBF0F8\"},\"line\":{\"color\":\"white\"}},\"header\":{\"fill\":{\"color\":\"#C8D4E3\"},\"line\":{\"color\":\"white\"}},\"type\":\"table\"}],\"barpolar\":[{\"marker\":{\"line\":{\"color\":\"#E5ECF6\",\"width\":0.5},\"pattern\":{\"fillmode\":\"overlay\",\"size\":10,\"solidity\":0.2}},\"type\":\"barpolar\"}],\"pie\":[{\"automargin\":true,\"type\":\"pie\"}]},\"layout\":{\"autotypenumbers\":\"strict\",\"colorway\":[\"#636efa\",\"#EF553B\",\"#00cc96\",\"#ab63fa\",\"#FFA15A\",\"#19d3f3\",\"#FF6692\",\"#B6E880\",\"#FF97FF\",\"#FECB52\"],\"font\":{\"color\":\"#2a3f5f\"},\"hovermode\":\"closest\",\"hoverlabel\":{\"align\":\"left\"},\"paper_bgcolor\":\"white\",\"plot_bgcolor\":\"#E5ECF6\",\"polar\":{\"bgcolor\":\"#E5ECF6\",\"angularaxis\":{\"gridcolor\":\"white\",\"linecolor\":\"white\",\"ticks\":\"\"},\"radialaxis\":{\"gridcolor\":\"white\",\"linecolor\":\"white\",\"ticks\":\"\"}},\"ternary\":{\"bgcolor\":\"#E5ECF6\",\"aaxis\":{\"gridcolor\":\"white\",\"linecolor\":\"white\",\"ticks\":\"\"},\"baxis\":{\"gridcolor\":\"white\",\"linecolor\":\"white\",\"ticks\":\"\"},\"caxis\":{\"gridcolor\":\"white\",\"linecolor\":\"white\",\"ticks\":\"\"}},\"coloraxis\":{\"colorbar\":{\"outlinewidth\":0,\"ticks\":\"\"}},\"colorscale\":{\"sequential\":[[0.0,\"#0d0887\"],[0.1111111111111111,\"#46039f\"],[0.2222222222222222,\"#7201a8\"],[0.3333333333333333,\"#9c179e\"],[0.4444444444444444,\"#bd3786\"],[0.5555555555555556,\"#d8576b\"],[0.6666666666666666,\"#ed7953\"],[0.7777777777777778,\"#fb9f3a\"],[0.8888888888888888,\"#fdca26\"],[1.0,\"#f0f921\"]],\"sequentialminus\":[[0.0,\"#0d0887\"],[0.1111111111111111,\"#46039f\"],[0.2222222222222222,\"#7201a8\"],[0.3333333333333333,\"#9c179e\"],[0.4444444444444444,\"#bd3786\"],[0.5555555555555556,\"#d8576b\"],[0.6666666666666666,\"#ed7953\"],[0.7777777777777778,\"#fb9f3a\"],[0.8888888888888888,\"#fdca26\"],[1.0,\"#f0f921\"]],\"diverging\":[[0,\"#8e0152\"],[0.1,\"#c51b7d\"],[0.2,\"#de77ae\"],[0.3,\"#f1b6da\"],[0.4,\"#fde0ef\"],[0.5,\"#f7f7f7\"],[0.6,\"#e6f5d0\"],[0.7,\"#b8e186\"],[0.8,\"#7fbc41\"],[0.9,\"#4d9221\"],[1,\"#276419\"]]},\"xaxis\":{\"gridcolor\":\"white\",\"linecolor\":\"white\",\"ticks\":\"\",\"title\":{\"standoff\":15},\"zerolinecolor\":\"white\",\"automargin\":true,\"zerolinewidth\":2},\"yaxis\":{\"gridcolor\":\"white\",\"linecolor\":\"white\",\"ticks\":\"\",\"title\":{\"standoff\":15},\"zerolinecolor\":\"white\",\"automargin\":true,\"zerolinewidth\":2},\"scene\":{\"xaxis\":{\"backgroundcolor\":\"#E5ECF6\",\"gridcolor\":\"white\",\"linecolor\":\"white\",\"showbackground\":true,\"ticks\":\"\",\"zerolinecolor\":\"white\",\"gridwidth\":2},\"yaxis\":{\"backgroundcolor\":\"#E5ECF6\",\"gridcolor\":\"white\",\"linecolor\":\"white\",\"showbackground\":true,\"ticks\":\"\",\"zerolinecolor\":\"white\",\"gridwidth\":2},\"zaxis\":{\"backgroundcolor\":\"#E5ECF6\",\"gridcolor\":\"white\",\"linecolor\":\"white\",\"showbackground\":true,\"ticks\":\"\",\"zerolinecolor\":\"white\",\"gridwidth\":2}},\"shapedefaults\":{\"line\":{\"color\":\"#2a3f5f\"}},\"annotationdefaults\":{\"arrowcolor\":\"#2a3f5f\",\"arrowhead\":0,\"arrowwidth\":1},\"geo\":{\"bgcolor\":\"white\",\"landcolor\":\"#E5ECF6\",\"subunitcolor\":\"white\",\"showland\":true,\"showlakes\":true,\"lakecolor\":\"white\"},\"title\":{\"x\":0.05},\"mapbox\":{\"style\":\"light\"}}},\"xaxis\":{\"title\":{\"text\":\"Fecha\"},\"tickangle\":-45,\"dtick\":\"M1\",\"range\":[\"2023-03-01T00:00:00\",\"2024-08-31T00:00:00\"]},\"yaxis2\":{\"title\":{\"text\":\"Error Absoluto Medio (MAE)\"},\"overlaying\":\"y\",\"side\":\"right\",\"matches\":\"y\"},\"legend\":{\"x\":0.6,\"y\":1},\"title\":{\"text\":\"Comparación de Predicciones (AI_P03F) y Valores Reales en España (2023-08\\u002f2024)\"},\"yaxis\":{\"title\":{\"text\":\"AMOUNT\"}}},                        {\"responsive\": true}                    ).then(function(){\n",
              "                            \n",
              "var gd = document.getElementById('88d56a79-a663-4c76-a0ee-e0833790e6a8');\n",
              "var x = new MutationObserver(function (mutations, observer) {{\n",
              "        var display = window.getComputedStyle(gd).display;\n",
              "        if (!display || display === 'none') {{\n",
              "            console.log([gd, 'removed!']);\n",
              "            Plotly.purge(gd);\n",
              "            observer.disconnect();\n",
              "        }}\n",
              "}});\n",
              "\n",
              "// Listen for the removal of the full notebook cells\n",
              "var notebookContainer = gd.closest('#notebook-container');\n",
              "if (notebookContainer) {{\n",
              "    x.observe(notebookContainer, {childList: true});\n",
              "}}\n",
              "\n",
              "// Listen for the clearing of the current output cell\n",
              "var outputEl = gd.closest('.output');\n",
              "if (outputEl) {{\n",
              "    x.observe(outputEl, {childList: true});\n",
              "}}\n",
              "\n",
              "                        })                };                            </script>        </div>\n",
              "</body>\n",
              "</html>"
            ]
          },
          "metadata": {}
        }
      ]
    },
    {
      "cell_type": "markdown",
      "source": [
        "Como podemos observar las predicciones se acercan bastante a la realidad, aunque únicamente hemos seleccionado los forecast AI_P02F y AI_P03F, ya que son los únicos que no están alterados, el resto de predicciones presentan valores repetidos que distorsionan la realidad, sesgando la base de datos.\n",
        "Por otro lado, para medir la precisión hemos empleado la métrica del error absoluto medio, promedio de las diferencias absolutas entre los valores reales y los valores predichos, lo cual indica cuánto se desvían, en promedio, las predicciones del modelo respecto a los valores observados.\n",
        "\n",
        "![mae.png](data:image/png;base64,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)\n",
        "\n",
        "Un MAE de 0 indica una predicción perfecta, sin error.\n",
        "Cuanto menor sea el valor del MAE, mejor es el rendimiento del modelo en términos de precisión, se mide en las mismas unidades que los datos, lo que facilita su interpretación en contextos prácticos.\n",
        "El forecast AI_P02F, presenta un MAE promedio de 58.108,79 uds, mientras que el forecast AI_P03F presenta un MAE promedio de 88.756,97 uds.\n",
        "Teniendo en cuenta que los valores de las ventas mensuales ascienden a millones, podemos concluir que la calidad de las predicciones es buena.\n",
        "\n",
        "Adjunto una imagen del csv que he creado comparando la suma total mensual de los valores reales y los valores predichos, demostrando la incosistencia de la base de datos.\n",
        "\n",
        "![image.png](data:image/png;base64,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)\n",
        "\n"
      ],
      "metadata": {
        "id": "QJHxeqtD567j"
      }
    }
  ]
}