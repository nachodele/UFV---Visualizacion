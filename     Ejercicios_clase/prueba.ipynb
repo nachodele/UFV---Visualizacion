{
  "nbformat": 4,
  "nbformat_minor": 0,
  "metadata": {
    "colab": {
      "provenance": [],
      "authorship_tag": "ABX9TyOlFkEGDetU83acf9J1kUbg",
      "include_colab_link": true
    },
    "kernelspec": {
      "name": "python3",
      "display_name": "Python 3"
    },
    "language_info": {
      "name": "python"
    }
  },
  "cells": [
    {
      "cell_type": "markdown",
      "metadata": {
        "id": "view-in-github",
        "colab_type": "text"
      },
      "source": [
        "<a href=\"https://colab.research.google.com/github/nachodele/UFV---Visualizacion/blob/main/%20%20%20%20Ejercicios_clase/prueba.ipynb\" target=\"_parent\"><img src=\"https://colab.research.google.com/assets/colab-badge.svg\" alt=\"Open In Colab\"/></a>"
      ]
    },
    {
      "cell_type": "code",
      "execution_count": null,
      "metadata": {
        "id": "04HqAMaziN69"
      },
      "outputs": [],
      "source": [
        "import plotly_express as px\n",
        "\n",
        "gapminder = px.data.gapminder()\n",
        "\n",
        "gapminder2007 = gapminder.query('year == 2007')\n",
        "\n",
        "gapminder2007.head()\n",
        "\n",
        "labels_dict = {'lifeExp':'Life Expectancy','gdpPercap': 'GCP per capita (USD)'}\n",
        "\n",
        "fig = px.scatter(gapminder2007, 'gdpPercap', 'lifeExp', labels = labels_dict, color = 'continent', size='pop', size_max= 50, hover_name='country', facet_col= 'continent')\n",
        "fig.show()"
      ]
    }
  ]
}